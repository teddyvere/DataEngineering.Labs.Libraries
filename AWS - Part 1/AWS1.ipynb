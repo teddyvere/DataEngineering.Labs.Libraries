{
 "cells": [
  {
   "cell_type": "code",
   "execution_count": 1,
   "metadata": {},
   "outputs": [
    {
     "name": "stdout",
     "output_type": "stream",
     "text": [
      "Defaulting to user installation because normal site-packages is not writeable\n",
      "Requirement already satisfied: boto3 in /Users/teddy/Library/Python/3.8/lib/python/site-packages (1.34.149)\n",
      "Requirement already satisfied: botocore<1.35.0,>=1.34.149 in /Users/teddy/Library/Python/3.8/lib/python/site-packages (from boto3) (1.34.149)\n",
      "Requirement already satisfied: jmespath<2.0.0,>=0.7.1 in /Users/teddy/Library/Python/3.8/lib/python/site-packages (from boto3) (1.0.1)\n",
      "Requirement already satisfied: s3transfer<0.11.0,>=0.10.0 in /Users/teddy/Library/Python/3.8/lib/python/site-packages (from boto3) (0.10.2)\n",
      "Requirement already satisfied: python-dateutil<3.0.0,>=2.1 in /Users/teddy/Library/Python/3.8/lib/python/site-packages (from botocore<1.35.0,>=1.34.149->boto3) (2.9.0.post0)\n",
      "Requirement already satisfied: urllib3<1.27,>=1.25.4 in /Users/teddy/Library/Python/3.8/lib/python/site-packages (from botocore<1.35.0,>=1.34.149->boto3) (1.26.19)\n",
      "Requirement already satisfied: six>=1.5 in /Library/Developer/CommandLineTools/Library/Frameworks/Python3.framework/Versions/3.8/lib/python3.8/site-packages (from python-dateutil<3.0.0,>=2.1->botocore<1.35.0,>=1.34.149->boto3) (1.15.0)\n"
     ]
    }
   ],
   "source": [
    "import boto3 "
   ]
  }
 ],
 "metadata": {
  "kernelspec": {
   "display_name": "Python 3",
   "language": "python",
   "name": "python3"
  },
  "language_info": {
   "codemirror_mode": {
    "name": "ipython",
    "version": 3
   },
   "file_extension": ".py",
   "mimetype": "text/x-python",
   "name": "python",
   "nbconvert_exporter": "python",
   "pygments_lexer": "ipython3",
   "version": "3.8.9"
  }
 },
 "nbformat": 4,
 "nbformat_minor": 2
}
