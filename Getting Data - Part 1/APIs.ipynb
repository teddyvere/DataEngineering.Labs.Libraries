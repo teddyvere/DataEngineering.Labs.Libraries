{
 "cells": [
  {
   "cell_type": "markdown",
   "metadata": {},
   "source": [
    "## Getting Data From the Interwebs\n",
    "\n",
    "In many cases the data you'll be working with as a data engineer will be company data that is accessible vias internal systems. In other cases though, you'll have to venture out into the wild to find your own data. We did this in a small way during the web scraping labs. In this lab though, we'll talk about how to get data from more structured sources.\n",
    "\n",
    "Public APIs are a great way of pulling data directly from other websites and data sources. Once you figure out how to handle the output of an API, you can build datasets out of almost anything!\n",
    "\n",
    "A few examples of the possibilities:\n",
    "- Connect to the FRED (Federal Reserve Economic Data) API and pull economic indicators for time series analysis\n",
    "- Connect to the Twitter API and pull tweets on a certain topic (like your company/product/etc) to analyze public sentiment\n",
    "- Connect to the SkyScanner API to analyze flight prices\n",
    "- Connect to Data.gov and build a student loan data set\n",
    "\n",
    "Public data is a really cool way to build a portfolio of projects that people can relate to. Company specific analysis will be your bread and butter in any job, but public data projects can be a great way of sharing your skills with the world. Todd Schneider's [taxi data analysis](https://toddwschneider.com/posts/analyzing-1-1-billion-nyc-taxi-and-uber-trips-with-a-vengeance/) is a perfect example of this. Give that piece a read before getting started."
   ]
  },
  {
   "cell_type": "code",
   "execution_count": 1,
   "metadata": {},
   "outputs": [],
   "source": [
    "#import pandas, requests, json, and seaborn\n",
    "\n",
    "import pandas as pd\n",
    "import requests\n",
    "import json\n",
    "import seaborn as sns\n",
    "import matplotlib.pyplot as plt\n",
    "%matplotlib inline"
   ]
  },
  {
   "cell_type": "markdown",
   "metadata": {},
   "source": [
    "## For our first API - let's use [FRED](https://research.stlouisfed.org/docs/api/fred/index.html). \n",
    "This is a common data source used in financial and economic analysis. Take a spin through their documentation, specifically the [observations](https://research.stlouisfed.org/docs/api/fred/series_observations.html) section before moving on.\n",
    "\n",
    "The first thing you'll need to do is register for an account and request an API key. You can do this [here](https://research.stlouisfed.org/docs/api/api_key.html) in about 1 minute.\n",
    "\n",
    "Second - we'll need to pick a data series to pull. For starters let's pull unemployement data for Delaware. Find this on the FRED website and take note of the unique ID for the series. We'll need to specify it in our API call.\n"
   ]
  },
  {
   "cell_type": "code",
   "execution_count": 2,
   "metadata": {},
   "outputs": [],
   "source": [
    "#save your API key as a variable called 'mykey'\n",
    "\n",
    "mykey = '5ffe1b83bb27dae2eb5ec54bd6add76a'"
   ]
  },
  {
   "cell_type": "code",
   "execution_count": 3,
   "metadata": {},
   "outputs": [],
   "source": [
    "#save the series_id as a variable called 'unemployment_id'\n",
    "\n",
    "unemployment_id = 'DEUR'"
   ]
  },
  {
   "cell_type": "markdown",
   "metadata": {},
   "source": [
    "Calling an API shares some similarities with web scraping in that, the basics are really the same. You're simply making a web call and recording the call's response. \n",
    "\n",
    "Take a look at FRED's example call below:\n",
    "\n",
    "https://api.stlouisfed.org/fred/series/observations?series_id=GNPCA&api_key=abcdefghijklmnopqrstuvwxyz123456&file_type=json"
   ]
  },
  {
   "cell_type": "code",
   "execution_count": 4,
   "metadata": {},
   "outputs": [],
   "source": [
    "#create a base url to call (this should end at '/observations?')\n",
    "\n",
    "base = 'https://api.stlouisfed.org/fred/series/observations?'"
   ]
  },
  {
   "cell_type": "code",
   "execution_count": 5,
   "metadata": {},
   "outputs": [],
   "source": [
    "#reconstruct the example URL, using your API key and series_id\n",
    "\n",
    "unemp_url = base + 'series_id=' + unemployment_id\\\n",
    "+ '&' + 'api_key=' + mykey + '&' + 'file_type=json'"
   ]
  },
  {
   "cell_type": "code",
   "execution_count": 6,
   "metadata": {},
   "outputs": [
    {
     "data": {
      "text/plain": [
       "'https://api.stlouisfed.org/fred/series/observations?series_id=DEUR&api_key=5ffe1b83bb27dae2eb5ec54bd6add76a&file_type=json'"
      ]
     },
     "execution_count": 6,
     "metadata": {},
     "output_type": "execute_result"
    }
   ],
   "source": [
    "#show the URL you created to confirm it is formatted as you'd expect\n",
    "\n",
    "unemp_url"
   ]
  },
  {
   "cell_type": "code",
   "execution_count": 7,
   "metadata": {},
   "outputs": [],
   "source": [
    "#use requests.get() to call the URL you constructed\n",
    "\n",
    "response = requests.get(unemp_url)"
   ]
  },
  {
   "cell_type": "code",
   "execution_count": 8,
   "metadata": {},
   "outputs": [
    {
     "data": {
      "text/plain": [
       "200"
      ]
     },
     "execution_count": 8,
     "metadata": {},
     "output_type": "execute_result"
    }
   ],
   "source": [
    "#check the status code of the response to confirm your call succeeded\n",
    "\n",
    "response.status_code"
   ]
  },
  {
   "cell_type": "markdown",
   "metadata": {},
   "source": [
    "## Bonus:\n",
    "\n",
    "What is the status_code for a successful web call?"
   ]
  },
  {
   "cell_type": "code",
   "execution_count": 9,
   "metadata": {},
   "outputs": [
    {
     "data": {
      "text/plain": [
       "b'{\"realtime_start\":\"2020-02-17\",\"realtime_end\":\"2020-02-17\",\"observation_start\":\"1600-01-01\",\"observation_end\":\"9999-12-31\",\"units\":\"lin\",\"output_type\":1,\"file_type\":\"json\",\"order_by\":\"observation_date\",\"sort_order\":\"asc\",\"count\":528,\"offset\":0,\"limit\":100000,\"observations\":[{\"realtime_start\":\"2020-02-17\",\"realtime_end\":\"2020-02-17\",\"date\":\"1976-01-01\",\"value\":\"7.7\"},{\"realtime_start\":\"2020-02-17\",\"realtime_end\":\"2020-02-17\",\"date\":\"1976-02-01\",\"value\":\"7.7\"},{\"realtime_start\":\"2020-02-17\",\"realtime_end\":\"2020-02-17\",\"date\":\"1976-03-01\",\"value\":\"7.700\"},{\"realtime_start\":\"2020-02-17\",\"realtime_end\":\"2020-02-17\",\"date\":\"1976-04-01\",\"value\":\"8.0\"},{\"realtime_start\":\"2020-02-17\",\"realtime_end\":\"2020-02-17\",\"date\":\"1976-05-01\",\"value\":\"8.4\"},{\"realtime_start\":\"2020-02-17\",\"realtime_end\":\"2020-02-17\",\"date\":\"1976-06-01\",\"value\":\"8.8\"},{\"realtime_start\":\"2020-02-17\",\"realtime_end\":\"2020-02-17\",\"date\":\"1976-07-01\",\"value\":\"9.200\"},{\"realtime_start\":\"2020-02-17\",\"realtime_end\":\"2020-02-17\",\"date\":\"1976-08-01\",\"value\":\"9.400\"},{\"realtime_start\":\"2020-02-17\",\"realtime_end\":\"2020-02-17\",\"date\":\"1976-09-01\",\"value\":\"9.600\"},{\"realtime_start\":\"2020-02-17\",\"realtime_end\":\"2020-02-17\",\"date\":\"1976-10-01\",\"value\":\"9.700\"},{\"realtime_start\":\"2020-02-17\",\"realtime_end\":\"2020-02-17\",\"date\":\"1976-11-01\",\"value\":\"9.800\"},{\"realtime_start\":\"2020-02-17\",\"realtime_end\":\"2020-02-17\",\"date\":\"1976-12-01\",\"value\":\"9.800\"},{\"realtime_start\":\"2020-02-17\",\"realtime_end\":\"2020-02-17\",\"date\":\"1977-01-01\",\"value\":\"9.700\"},{\"realtime_start\":\"2020-02-17\",\"realtime_end\":\"2020-02-17\",\"date\":\"1977-02-01\",\"value\":\"9.500\"},{\"realtime_start\":\"2020-02-17\",\"realtime_end\":\"2020-02-17\",\"date\":\"1977-03-01\",\"value\":\"9.300\"},{\"realtime_start\":\"2020-02-17\",\"realtime_end\":\"2020-02-17\",\"date\":\"1977-04-01\",\"value\":\"9.000\"},{\"realtime_start\":\"2020-02-17\",\"realtime_end\":\"2020-02-17\",\"date\":\"1977-05-01\",\"value\":\"8.700\"},{\"realtime_start\":\"2020-02-17\",\"realtime_end\":\"2020-02-17\",\"date\":\"1977-06-01\",\"value\":\"8.400\"},{\"realtime_start\":\"2020-02-17\",\"realtime_end\":\"2020-02-17\",\"date\":\"1977-07-01\",\"value\":\"8.200\"},{\"realtime_start\":\"2020-02-17\",\"realtime_end\":\"2020-02-17\",\"date\":\"1977-08-01\",\"value\":\"8.000\"},{\"realtime_start\":\"2020-02-17\",\"realtime_end\":\"2020-02-17\",\"date\":\"1977-09-01\",\"value\":\"7.800\"},{\"realtime_start\":\"2020-02-17\",\"realtime_end\":\"2020-02-17\",\"date\":\"1977-10-01\",\"value\":\"7.700\"},{\"realtime_start\":\"2020-02-17\",\"realtime_end\":\"2020-02-17\",\"date\":\"1977-11-01\",\"value\":\"7.600\"},{\"realtime_start\":\"2020-02-17\",\"realtime_end\":\"2020-02-17\",\"date\":\"1977-12-01\",\"value\":\"7.600\"},{\"realtime_start\":\"2020-02-17\",\"realtime_end\":\"2020-02-17\",\"date\":\"1978-01-01\",\"value\":\"7.600\"},{\"realtime_start\":\"2020-02-17\",\"realtime_end\":\"2020-02-17\",\"date\":\"1978-02-01\",\"value\":\"7.600\"},{\"realtime_start\":\"2020-02-17\",\"realtime_end\":\"2020-02-17\",\"date\":\"1978-03-01\",\"value\":\"7.500\"},{\"realtime_start\":\"2020-02-17\",\"realtime_end\":\"2020-02-17\",\"date\":\"1978-04-01\",\"value\":\"7.500\"},{\"realtime_start\":\"2020-02-17\",\"realtime_end\":\"2020-02-17\",\"date\":\"1978-05-01\",\"value\":\"7.500\"},{\"realtime_start\":\"2020-02-17\",\"realtime_end\":\"2020-02-17\",\"date\":\"1978-06-01\",\"value\":\"7.500\"},{\"realtime_start\":\"2020-02-17\",\"realtime_end\":\"2020-02-17\",\"date\":\"1978-07-01\",\"value\":\"7.400\"},{\"realtime_start\":\"2020-02-17\",\"realtime_end\":\"2020-02-17\",\"date\":\"1978-08-01\",\"value\":\"7.400\"},{\"realtime_start\":\"2020-02-17\",\"realtime_end\":\"2020-02-17\",\"date\":\"1978-09-01\",\"value\":\"7.300\"},{\"realtime_start\":\"2020-02-17\",\"realtime_end\":\"2020-02-17\",\"date\":\"1978-10-01\",\"value\":\"7.200\"},{\"realtime_start\":\"2020-02-17\",\"realtime_end\":\"2020-02-17\",\"date\":\"1978-11-01\",\"value\":\"7.200\"},{\"realtime_start\":\"2020-02-17\",\"realtime_end\":\"2020-02-17\",\"date\":\"1978-12-01\",\"value\":\"7.200\"},{\"realtime_start\":\"2020-02-17\",\"realtime_end\":\"2020-02-17\",\"date\":\"1979-01-01\",\"value\":\"7.200\"},{\"realtime_start\":\"2020-02-17\",\"realtime_end\":\"2020-02-17\",\"date\":\"1979-02-01\",\"value\":\"7.300\"},{\"realtime_start\":\"2020-02-17\",\"realtime_end\":\"2020-02-17\",\"date\":\"1979-03-01\",\"value\":\"7.300\"},{\"realtime_start\":\"2020-02-17\",\"realtime_end\":\"2020-02-17\",\"date\":\"1979-04-01\",\"value\":\"7.300\"},{\"realtime_start\":\"2020-02-17\",\"realtime_end\":\"2020-02-17\",\"date\":\"1979-05-01\",\"value\":\"7.200\"},{\"realtime_start\":\"2020-02-17\",\"realtime_end\":\"2020-02-17\",\"date\":\"1979-06-01\",\"value\":\"7.200\"},{\"realtime_start\":\"2020-02-17\",\"realtime_end\":\"2020-02-17\",\"date\":\"1979-07-01\",\"value\":\"7.100\"},{\"realtime_start\":\"2020-02-17\",\"realtime_end\":\"2020-02-17\",\"date\":\"1979-08-01\",\"value\":\"7.100\"},{\"realtime_start\":\"2020-02-17\",\"realtime_end\":\"2020-02-17\",\"date\":\"1979-09-01\",\"value\":\"7.200\"},{\"realtime_start\":\"2020-02-17\",\"realtime_end\":\"2020-02-17\",\"date\":\"1979-10-01\",\"value\":\"7.200\"},{\"realtime_start\":\"2020-02-17\",\"realtime_end\":\"2020-02-17\",\"date\":\"1979-11-01\",\"value\":\"7.200\"},{\"realtime_start\":\"2020-02-17\",\"realtime_end\":\"2020-02-17\",\"date\":\"1979-12-01\",\"value\":\"7.100\"},{\"realtime_start\":\"2020-02-17\",\"realtime_end\":\"2020-02-17\",\"date\":\"1980-01-01\",\"value\":\"7.100\"},{\"realtime_start\":\"2020-02-17\",\"realtime_end\":\"2020-02-17\",\"date\":\"1980-02-01\",\"value\":\"7.1\"},{\"realtime_start\":\"2020-02-17\",\"realtime_end\":\"2020-02-17\",\"date\":\"1980-03-01\",\"value\":\"7.100\"},{\"realtime_start\":\"2020-02-17\",\"realtime_end\":\"2020-02-17\",\"date\":\"1980-04-01\",\"value\":\"7.300\"},{\"realtime_start\":\"2020-02-17\",\"realtime_end\":\"2020-02-17\",\"date\":\"1980-05-01\",\"value\":\"7.500\"},{\"realtime_start\":\"2020-02-17\",\"realtime_end\":\"2020-02-17\",\"date\":\"1980-06-01\",\"value\":\"7.7\"},{\"realtime_start\":\"2020-02-17\",\"realtime_end\":\"2020-02-17\",\"date\":\"1980-07-01\",\"value\":\"7.900\"},{\"realtime_start\":\"2020-02-17\",\"realtime_end\":\"2020-02-17\",\"date\":\"1980-08-01\",\"value\":\"8.000\"},{\"realtime_start\":\"2020-02-17\",\"realtime_end\":\"2020-02-17\",\"date\":\"1980-09-01\",\"value\":\"8.000\"},{\"realtime_start\":\"2020-02-17\",\"realtime_end\":\"2020-02-17\",\"date\":\"1980-10-01\",\"value\":\"7.900\"},{\"realtime_start\":\"2020-02-17\",\"realtime_end\":\"2020-02-17\",\"date\":\"1980-11-01\",\"value\":\"7.900\"},{\"realtime_start\":\"2020-02-17\",\"realtime_end\":\"2020-02-17\",\"date\":\"1980-12-01\",\"value\":\"7.800\"},{\"realtime_start\":\"2020-02-17\",\"realtime_end\":\"2020-02-17\",\"date\":\"1981-01-01\",\"value\":\"7.800\"},{\"realtime_start\":\"2020-02-17\",\"realtime_end\":\"2020-02-17\",\"date\":\"1981-02-01\",\"value\":\"7.700\"},{\"realtime_start\":\"2020-02-17\",\"realtime_end\":\"2020-02-17\",\"date\":\"1981-03-01\",\"value\":\"7.700\"},{\"realtime_start\":\"2020-02-17\",\"realtime_end\":\"2020-02-17\",\"date\":\"1981-04-01\",\"value\":\"7.700\"},{\"realtime_start\":\"2020-02-17\",\"realtime_end\":\"2020-02-17\",\"date\":\"1981-05-01\",\"value\":\"7.600\"},{\"realtime_start\":\"2020-02-17\",\"realtime_end\":\"2020-02-17\",\"date\":\"1981-06-01\",\"value\":\"7.600\"},{\"realtime_start\":\"2020-02-17\",\"realtime_end\":\"2020-02-17\",\"date\":\"1981-07-01\",\"value\":\"7.600\"},{\"realtime_start\":\"2020-02-17\",\"realtime_end\":\"2020-02-17\",\"date\":\"1981-08-01\",\"value\":\"7.700\"},{\"realtime_start\":\"2020-02-17\",\"realtime_end\":\"2020-02-17\",\"date\":\"1981-09-01\",\"value\":\"7.900\"},{\"realtime_start\":\"2020-02-17\",\"realtime_end\":\"2020-02-17\",\"date\":\"1981-10-01\",\"value\":\"8.100\"},{\"realtime_start\":\"2020-02-17\",\"realtime_end\":\"2020-02-17\",\"date\":\"1981-11-01\",\"value\":\"8.300\"},{\"realtime_start\":\"2020-02-17\",\"realtime_end\":\"2020-02-17\",\"date\":\"1981-12-01\",\"value\":\"8.500\"},{\"realtime_start\":\"2020-02-17\",\"realtime_end\":\"2020-02-17\",\"date\":\"1982-01-01\",\"value\":\"8.600\"},{\"realtime_start\":\"2020-02-17\",\"realtime_end\":\"2020-02-17\",\"date\":\"1982-02-01\",\"value\":\"8.700\"},{\"realtime_start\":\"2020-02-17\",\"realtime_end\":\"2020-02-17\",\"date\":\"1982-03-01\",\"value\":\"8.600\"},{\"realtime_start\":\"2020-02-17\",\"realtime_end\":\"2020-02-17\",\"date\":\"1982-04-01\",\"value\":\"8.600\"},{\"realtime_start\":\"2020-02-17\",\"realtime_end\":\"2020-02-17\",\"date\":\"1982-05-01\",\"value\":\"8.500\"},{\"realtime_start\":\"2020-02-17\",\"realtime_end\":\"2020-02-17\",\"date\":\"1982-06-01\",\"value\":\"8.400\"},{\"realtime_start\":\"2020-02-17\",\"realtime_end\":\"2020-02-17\",\"date\":\"1982-07-01\",\"value\":\"8.300\"},{\"realtime_start\":\"2020-02-17\",\"realtime_end\":\"2020-02-17\",\"date\":\"1982-08-01\",\"value\":\"8.200\"},{\"realtime_start\":\"2020-02-17\",\"realtime_end\":\"2020-02-17\",\"date\":\"1982-09-01\",\"value\":\"8.200\"},{\"realtime_start\":\"2020-02-17\",\"realtime_end\":\"2020-02-17\",\"date\":\"1982-10-01\",\"value\":\"8.100\"},{\"realtime_start\":\"2020-02-17\",\"realtime_end\":\"2020-02-17\",\"date\":\"1982-11-01\",\"value\":\"8.100\"},{\"realtime_start\":\"2020-02-17\",\"realtime_end\":\"2020-02-17\",\"date\":\"1982-12-01\",\"value\":\"8.100\"},{\"realtime_start\":\"2020-02-17\",\"realtime_end\":\"2020-02-17\",\"date\":\"1983-01-01\",\"value\":\"8.100\"},{\"realtime_start\":\"2020-02-17\",\"realtime_end\":\"2020-02-17\",\"date\":\"1983-02-01\",\"value\":\"8.100\"},{\"realtime_start\":\"2020-02-17\",\"realtime_end\":\"2020-02-17\",\"date\":\"1983-03-01\",\"value\":\"8.100\"},{\"realtime_start\":\"2020-02-17\",\"realtime_end\":\"2020-02-17\",\"date\":\"1983-04-01\",\"value\":\"8.000\"},{\"realtime_start\":\"2020-02-17\",\"realtime_end\":\"2020-02-17\",\"date\":\"1983-05-01\",\"value\":\"8.000\"},{\"realtime_start\":\"2020-02-17\",\"realtime_end\":\"2020-02-17\",\"date\":\"1983-06-01\",\"value\":\"7.900\"},{\"realtime_start\":\"2020-02-17\",\"realtime_end\":\"2020-02-17\",\"date\":\"1983-07-01\",\"value\":\"7.800\"},{\"realtime_start\":\"2020-02-17\",\"realtime_end\":\"2020-02-17\",\"date\":\"1983-08-01\",\"value\":\"7.700\"},{\"realtime_start\":\"2020-02-17\",\"realtime_end\":\"2020-02-17\",\"date\":\"1983-09-01\",\"value\":\"7.600\"},{\"realtime_start\":\"2020-02-17\",\"realtime_end\":\"2020-02-17\",\"date\":\"1983-10-01\",\"value\":\"7.400\"},{\"realtime_start\":\"2020-02-17\",\"realtime_end\":\"2020-02-17\",\"date\":\"1983-11-01\",\"value\":\"7.200\"},{\"realtime_start\":\"2020-02-17\",\"realtime_end\":\"2020-02-17\",\"date\":\"1983-12-01\",\"value\":\"7.000\"},{\"realtime_start\":\"2020-02-17\",\"realtime_end\":\"2020-02-17\",\"date\":\"1984-01-01\",\"value\":\"6.700\"},{\"realtime_start\":\"2020-02-17\",\"realtime_end\":\"2020-02-17\",\"date\":\"1984-02-01\",\"value\":\"6.500\"},{\"realtime_start\":\"2020-02-17\",\"realtime_end\":\"2020-02-17\",\"date\":\"1984-03-01\",\"value\":\"6.4\"},{\"realtime_start\":\"2020-02-17\",\"realtime_end\":\"2020-02-17\",\"date\":\"1984-04-01\",\"value\":\"6.300\"},{\"realtime_start\":\"2020-02-17\",\"realtime_end\":\"2020-02-17\",\"date\":\"1984-05-01\",\"value\":\"6.300\"},{\"realtime_start\":\"2020-02-17\",\"realtime_end\":\"2020-02-17\",\"date\":\"1984-06-01\",\"value\":\"6.300\"},{\"realtime_start\":\"2020-02-17\",\"realtime_end\":\"2020-02-17\",\"date\":\"1984-07-01\",\"value\":\"6.3\"},{\"realtime_start\":\"2020-02-17\",\"realtime_end\":\"2020-02-17\",\"date\":\"1984-08-01\",\"value\":\"6.300\"},{\"realtime_start\":\"2020-02-17\",\"realtime_end\":\"2020-02-17\",\"date\":\"1984-09-01\",\"value\":\"6.300\"},{\"realtime_start\":\"2020-02-17\",\"realtime_end\":\"2020-02-17\",\"date\":\"1984-10-01\",\"value\":\"6.200\"},{\"realtime_start\":\"2020-02-17\",\"realtime_end\":\"2020-02-17\",\"date\":\"1984-11-01\",\"value\":\"6.100\"},{\"realtime_start\":\"2020-02-17\",\"realtime_end\":\"2020-02-17\",\"date\":\"1984-12-01\",\"value\":\"6.000\"},{\"realtime_start\":\"2020-02-17\",\"realtime_end\":\"2020-02-17\",\"date\":\"1985-01-01\",\"value\":\"5.900\"},{\"realtime_start\":\"2020-02-17\",\"realtime_end\":\"2020-02-17\",\"date\":\"1985-02-01\",\"value\":\"5.800\"},{\"realtime_start\":\"2020-02-17\",\"realtime_end\":\"2020-02-17\",\"date\":\"1985-03-01\",\"value\":\"5.600\"},{\"realtime_start\":\"2020-02-17\",\"realtime_end\":\"2020-02-17\",\"date\":\"1985-04-01\",\"value\":\"5.500\"},{\"realtime_start\":\"2020-02-17\",\"realtime_end\":\"2020-02-17\",\"date\":\"1985-05-01\",\"value\":\"5.300\"},{\"realtime_start\":\"2020-02-17\",\"realtime_end\":\"2020-02-17\",\"date\":\"1985-06-01\",\"value\":\"5.200\"},{\"realtime_start\":\"2020-02-17\",\"realtime_end\":\"2020-02-17\",\"date\":\"1985-07-01\",\"value\":\"5.000\"},{\"realtime_start\":\"2020-02-17\",\"realtime_end\":\"2020-02-17\",\"date\":\"1985-08-01\",\"value\":\"4.900\"},{\"realtime_start\":\"2020-02-17\",\"realtime_end\":\"2020-02-17\",\"date\":\"1985-09-01\",\"value\":\"4.7\"},{\"realtime_start\":\"2020-02-17\",\"realtime_end\":\"2020-02-17\",\"date\":\"1985-10-01\",\"value\":\"4.600\"},{\"realtime_start\":\"2020-02-17\",\"realtime_end\":\"2020-02-17\",\"date\":\"1985-11-01\",\"value\":\"4.600\"},{\"realtime_start\":\"2020-02-17\",\"realtime_end\":\"2020-02-17\",\"date\":\"1985-12-01\",\"value\":\"4.600\"},{\"realtime_start\":\"2020-02-17\",\"realtime_end\":\"2020-02-17\",\"date\":\"1986-01-01\",\"value\":\"4.700\"},{\"realtime_start\":\"2020-02-17\",\"realtime_end\":\"2020-02-17\",\"date\":\"1986-02-01\",\"value\":\"4.800\"},{\"realtime_start\":\"2020-02-17\",\"realtime_end\":\"2020-02-17\",\"date\":\"1986-03-01\",\"value\":\"4.900\"},{\"realtime_start\":\"2020-02-17\",\"realtime_end\":\"2020-02-17\",\"date\":\"1986-04-01\",\"value\":\"4.900\"},{\"realtime_start\":\"2020-02-17\",\"realtime_end\":\"2020-02-17\",\"date\":\"1986-05-01\",\"value\":\"4.900\"},{\"realtime_start\":\"2020-02-17\",\"realtime_end\":\"2020-02-17\",\"date\":\"1986-06-01\",\"value\":\"4.700\"},{\"realtime_start\":\"2020-02-17\",\"realtime_end\":\"2020-02-17\",\"date\":\"1986-07-01\",\"value\":\"4.500\"},{\"realtime_start\":\"2020-02-17\",\"realtime_end\":\"2020-02-17\",\"date\":\"1986-08-01\",\"value\":\"4.200\"},{\"realtime_start\":\"2020-02-17\",\"realtime_end\":\"2020-02-17\",\"date\":\"1986-09-01\",\"value\":\"3.900\"},{\"realtime_start\":\"2020-02-17\",\"realtime_end\":\"2020-02-17\",\"date\":\"1986-10-01\",\"value\":\"3.700\"},{\"realtime_start\":\"2020-02-17\",\"realtime_end\":\"2020-02-17\",\"date\":\"1986-11-01\",\"value\":\"3.500\"},{\"realtime_start\":\"2020-02-17\",\"realtime_end\":\"2020-02-17\",\"date\":\"1986-12-01\",\"value\":\"3.300\"},{\"realtime_start\":\"2020-02-17\",\"realtime_end\":\"2020-02-17\",\"date\":\"1987-01-01\",\"value\":\"3.200\"},{\"realtime_start\":\"2020-02-17\",\"realtime_end\":\"2020-02-17\",\"date\":\"1987-02-01\",\"value\":\"3.200\"},{\"realtime_start\":\"2020-02-17\",\"realtime_end\":\"2020-02-17\",\"date\":\"1987-03-01\",\"value\":\"3.100\"},{\"realtime_start\":\"2020-02-17\",\"realtime_end\":\"2020-02-17\",\"date\":\"1987-04-01\",\"value\":\"3.100\"},{\"realtime_start\":\"2020-02-17\",\"realtime_end\":\"2020-02-17\",\"date\":\"1987-05-01\",\"value\":\"3.100\"},{\"realtime_start\":\"2020-02-17\",\"realtime_end\":\"2020-02-17\",\"date\":\"1987-06-01\",\"value\":\"3.000\"},{\"realtime_start\":\"2020-02-17\",\"realtime_end\":\"2020-02-17\",\"date\":\"1987-07-01\",\"value\":\"3.000\"},{\"realtime_start\":\"2020-02-17\",\"realtime_end\":\"2020-02-17\",\"date\":\"1987-08-01\",\"value\":\"3.000\"},{\"realtime_start\":\"2020-02-17\",\"realtime_end\":\"2020-02-17\",\"date\":\"1987-09-01\",\"value\":\"3.000\"},{\"realtime_start\":\"2020-02-17\",\"realtime_end\":\"2020-02-17\",\"date\":\"1987-10-01\",\"value\":\"3.100\"},{\"realtime_start\":\"2020-02-17\",\"realtime_end\":\"2020-02-17\",\"date\":\"1987-11-01\",\"value\":\"3.200\"},{\"realtime_start\":\"2020-02-17\",\"realtime_end\":\"2020-02-17\",\"date\":\"1987-12-01\",\"value\":\"3.200\"},{\"realtime_start\":\"2020-02-17\",\"realtime_end\":\"2020-02-17\",\"date\":\"1988-01-01\",\"value\":\"3.200\"},{\"realtime_start\":\"2020-02-17\",\"realtime_end\":\"2020-02-17\",\"date\":\"1988-02-01\",\"value\":\"3.100\"},{\"realtime_start\":\"2020-02-17\",\"realtime_end\":\"2020-02-17\",\"date\":\"1988-03-01\",\"value\":\"3.000\"},{\"realtime_start\":\"2020-02-17\",\"realtime_end\":\"2020-02-17\",\"date\":\"1988-04-01\",\"value\":\"3.000\"},{\"realtime_start\":\"2020-02-17\",\"realtime_end\":\"2020-02-17\",\"date\":\"1988-05-01\",\"value\":\"3.000\"},{\"realtime_start\":\"2020-02-17\",\"realtime_end\":\"2020-02-17\",\"date\":\"1988-06-01\",\"value\":\"3.000\"},{\"realtime_start\":\"2020-02-17\",\"realtime_end\":\"2020-02-17\",\"date\":\"1988-07-01\",\"value\":\"3.100\"},{\"realtime_start\":\"2020-02-17\",\"realtime_end\":\"2020-02-17\",\"date\":\"1988-08-01\",\"value\":\"3.200\"},{\"realtime_start\":\"2020-02-17\",\"realtime_end\":\"2020-02-17\",\"date\":\"1988-09-01\",\"value\":\"3.300\"},{\"realtime_start\":\"2020-02-17\",\"realtime_end\":\"2020-02-17\",\"date\":\"1988-10-01\",\"value\":\"3.300\"},{\"realtime_start\":\"2020-02-17\",\"realtime_end\":\"2020-02-17\",\"date\":\"1988-11-01\",\"value\":\"3.2\"},{\"realtime_start\":\"2020-02-17\",\"realtime_end\":\"2020-02-17\",\"date\":\"1988-12-01\",\"value\":\"3.200\"},{\"realtime_start\":\"2020-02-17\",\"realtime_end\":\"2020-02-17\",\"date\":\"1989-01-01\",\"value\":\"3.100\"},{\"realtime_start\":\"2020-02-17\",\"realtime_end\":\"2020-02-17\",\"date\":\"1989-02-01\",\"value\":\"3.100\"},{\"realtime_start\":\"2020-02-17\",\"realtime_end\":\"2020-02-17\",\"date\":\"1989-03-01\",\"value\":\"3.200\"},{\"realtime_start\":\"2020-02-17\",\"realtime_end\":\"2020-02-17\",\"date\":\"1989-04-01\",\"value\":\"3.300\"},{\"realtime_start\":\"2020-02-17\",\"realtime_end\":\"2020-02-17\",\"date\":\"1989-05-01\",\"value\":\"3.400\"},{\"realtime_start\":\"2020-02-17\",\"realtime_end\":\"2020-02-17\",\"date\":\"1989-06-01\",\"value\":\"3.600\"},{\"realtime_start\":\"2020-02-17\",\"realtime_end\":\"2020-02-17\",\"date\":\"1989-07-01\",\"value\":\"3.700\"},{\"realtime_start\":\"2020-02-17\",\"realtime_end\":\"2020-02-17\",\"date\":\"1989-08-01\",\"value\":\"3.700\"},{\"realtime_start\":\"2020-02-17\",\"realtime_end\":\"2020-02-17\",\"date\":\"1989-09-01\",\"value\":\"3.700\"},{\"realtime_start\":\"2020-02-17\",\"realtime_end\":\"2020-02-17\",\"date\":\"1989-10-01\",\"value\":\"3.700\"},{\"realtime_start\":\"2020-02-17\",\"realtime_end\":\"2020-02-17\",\"date\":\"1989-11-01\",\"value\":\"3.700\"},{\"realtime_start\":\"2020-02-17\",\"realtime_end\":\"2020-02-17\",\"date\":\"1989-12-01\",\"value\":\"3.700\"},{\"realtime_start\":\"2020-02-17\",\"realtime_end\":\"2020-02-17\",\"date\":\"1990-01-01\",\"value\":\"3.700\"},{\"realtime_start\":\"2020-02-17\",\"realtime_end\":\"2020-02-17\",\"date\":\"1990-02-01\",\"value\":\"3.800\"},{\"realtime_start\":\"2020-02-17\",\"realtime_end\":\"2020-02-17\",\"date\":\"1990-03-01\",\"value\":\"3.800\"},{\"realtime_start\":\"2020-02-17\",\"realtime_end\":\"2020-02-17\",\"date\":\"1990-04-01\",\"value\":\"3.800\"},{\"realtime_start\":\"2020-02-17\",\"realtime_end\":\"2020-02-17\",\"date\":\"1990-05-01\",\"value\":\"3.800\"},{\"realtime_start\":\"2020-02-17\",\"realtime_end\":\"2020-02-17\",\"date\":\"1990-06-01\",\"value\":\"3.900\"},{\"realtime_start\":\"2020-02-17\",\"realtime_end\":\"2020-02-17\",\"date\":\"1990-07-01\",\"value\":\"4.100\"},{\"realtime_start\":\"2020-02-17\",\"realtime_end\":\"2020-02-17\",\"date\":\"1990-08-01\",\"value\":\"4.300\"},{\"realtime_start\":\"2020-02-17\",\"realtime_end\":\"2020-02-17\",\"date\":\"1990-09-01\",\"value\":\"5.700\"},{\"realtime_start\":\"2020-02-17\",\"realtime_end\":\"2020-02-17\",\"date\":\"1990-10-01\",\"value\":\"6.300\"},{\"realtime_start\":\"2020-02-17\",\"realtime_end\":\"2020-02-17\",\"date\":\"1990-11-01\",\"value\":\"6.600\"},{\"realtime_start\":\"2020-02-17\",\"realtime_end\":\"2020-02-17\",\"date\":\"1990-12-01\",\"value\":\"6.7\"},{\"realtime_start\":\"2020-02-17\",\"realtime_end\":\"2020-02-17\",\"date\":\"1991-01-01\",\"value\":\"6.800\"},{\"realtime_start\":\"2020-02-17\",\"realtime_end\":\"2020-02-17\",\"date\":\"1991-02-01\",\"value\":\"6.8\"},{\"realtime_start\":\"2020-02-17\",\"realtime_end\":\"2020-02-17\",\"date\":\"1991-03-01\",\"value\":\"6.800\"},{\"realtime_start\":\"2020-02-17\",\"realtime_end\":\"2020-02-17\",\"date\":\"1991-04-01\",\"value\":\"6.600\"},{\"realtime_start\":\"2020-02-17\",\"realtime_end\":\"2020-02-17\",\"date\":\"1991-05-01\",\"value\":\"6.500\"},{\"realtime_start\":\"2020-02-17\",\"realtime_end\":\"2020-02-17\",\"date\":\"1991-06-01\",\"value\":\"6.300\"},{\"realtime_start\":\"2020-02-17\",\"realtime_end\":\"2020-02-17\",\"date\":\"1991-07-01\",\"value\":\"6.100\"},{\"realtime_start\":\"2020-02-17\",\"realtime_end\":\"2020-02-17\",\"date\":\"1991-08-01\",\"value\":\"5.900\"},{\"realtime_start\":\"2020-02-17\",\"realtime_end\":\"2020-02-17\",\"date\":\"1991-09-01\",\"value\":\"5.800\"},{\"realtime_start\":\"2020-02-17\",\"realtime_end\":\"2020-02-17\",\"date\":\"1991-10-01\",\"value\":\"5.700\"},{\"realtime_start\":\"2020-02-17\",\"realtime_end\":\"2020-02-17\",\"date\":\"1991-11-01\",\"value\":\"5.600\"},{\"realtime_start\":\"2020-02-17\",\"realtime_end\":\"2020-02-17\",\"date\":\"1991-12-01\",\"value\":\"5.600\"},{\"realtime_start\":\"2020-02-17\",\"realtime_end\":\"2020-02-17\",\"date\":\"1992-01-01\",\"value\":\"5.600\"},{\"realtime_start\":\"2020-02-17\",\"realtime_end\":\"2020-02-17\",\"date\":\"1992-02-01\",\"value\":\"5.600\"},{\"realtime_start\":\"2020-02-17\",\"realtime_end\":\"2020-02-17\",\"date\":\"1992-03-01\",\"value\":\"5.600\"},{\"realtime_start\":\"2020-02-17\",\"realtime_end\":\"2020-02-17\",\"date\":\"1992-04-01\",\"value\":\"5.600\"},{\"realtime_start\":\"2020-02-17\",\"realtime_end\":\"2020-02-17\",\"date\":\"1992-05-01\",\"value\":\"5.600\"},{\"realtime_start\":\"2020-02-17\",\"realtime_end\":\"2020-02-17\",\"date\":\"1992-06-01\",\"value\":\"5.600\"},{\"realtime_start\":\"2020-02-17\",\"realtime_end\":\"2020-02-17\",\"date\":\"1992-07-01\",\"value\":\"5.500\"},{\"realtime_start\":\"2020-02-17\",\"realtime_end\":\"2020-02-17\",\"date\":\"1992-08-01\",\"value\":\"5.400\"},{\"realtime_start\":\"2020-02-17\",\"realtime_end\":\"2020-02-17\",\"date\":\"1992-09-01\",\"value\":\"5.300\"},{\"realtime_start\":\"2020-02-17\",\"realtime_end\":\"2020-02-17\",\"date\":\"1992-10-01\",\"value\":\"5.200\"},{\"realtime_start\":\"2020-02-17\",\"realtime_end\":\"2020-02-17\",\"date\":\"1992-11-01\",\"value\":\"5.100\"},{\"realtime_start\":\"2020-02-17\",\"realtime_end\":\"2020-02-17\",\"date\":\"1992-12-01\",\"value\":\"4.900\"},{\"realtime_start\":\"2020-02-17\",\"realtime_end\":\"2020-02-17\",\"date\":\"1993-01-01\",\"value\":\"4.800\"},{\"realtime_start\":\"2020-02-17\",\"realtime_end\":\"2020-02-17\",\"date\":\"1993-02-01\",\"value\":\"4.800\"},{\"realtime_start\":\"2020-02-17\",\"realtime_end\":\"2020-02-17\",\"date\":\"1993-03-01\",\"value\":\"4.800\"},{\"realtime_start\":\"2020-02-17\",\"realtime_end\":\"2020-02-17\",\"date\":\"1993-04-01\",\"value\":\"4.800\"},{\"realtime_start\":\"2020-02-17\",\"realtime_end\":\"2020-02-17\",\"date\":\"1993-05-01\",\"value\":\"4.900\"},{\"realtime_start\":\"2020-02-17\",\"realtime_end\":\"2020-02-17\",\"date\":\"1993-06-01\",\"value\":\"5.000\"},{\"realtime_start\":\"2020-02-17\",\"realtime_end\":\"2020-02-17\",\"date\":\"1993-07-01\",\"value\":\"5.100\"},{\"realtime_start\":\"2020-02-17\",\"realtime_end\":\"2020-02-17\",\"date\":\"1993-08-01\",\"value\":\"5.200\"},{\"realtime_start\":\"2020-02-17\",\"realtime_end\":\"2020-02-17\",\"date\":\"1993-09-01\",\"value\":\"5.200\"},{\"realtime_start\":\"2020-02-17\",\"realtime_end\":\"2020-02-17\",\"date\":\"1993-10-01\",\"value\":\"5.300\"},{\"realtime_start\":\"2020-02-17\",\"realtime_end\":\"2020-02-17\",\"date\":\"1993-11-01\",\"value\":\"5.400\"},{\"realtime_start\":\"2020-02-17\",\"realtime_end\":\"2020-02-17\",\"date\":\"1993-12-01\",\"value\":\"5.400\"},{\"realtime_start\":\"2020-02-17\",\"realtime_end\":\"2020-02-17\",\"date\":\"1994-01-01\",\"value\":\"5.400\"},{\"realtime_start\":\"2020-02-17\",\"realtime_end\":\"2020-02-17\",\"date\":\"1994-02-01\",\"value\":\"5.400\"},{\"realtime_start\":\"2020-02-17\",\"realtime_end\":\"2020-02-17\",\"date\":\"1994-03-01\",\"value\":\"5.300\"},{\"realtime_start\":\"2020-02-17\",\"realtime_end\":\"2020-02-17\",\"date\":\"1994-04-01\",\"value\":\"5.200\"},{\"realtime_start\":\"2020-02-17\",\"realtime_end\":\"2020-02-17\",\"date\":\"1994-05-01\",\"value\":\"5.100\"},{\"realtime_start\":\"2020-02-17\",\"realtime_end\":\"2020-02-17\",\"date\":\"1994-06-01\",\"value\":\"4.900\"},{\"realtime_start\":\"2020-02-17\",\"realtime_end\":\"2020-02-17\",\"date\":\"1994-07-01\",\"value\":\"4.700\"},{\"realtime_start\":\"2020-02-17\",\"realtime_end\":\"2020-02-17\",\"date\":\"1994-08-01\",\"value\":\"4.600\"},{\"realtime_start\":\"2020-02-17\",\"realtime_end\":\"2020-02-17\",\"date\":\"1994-09-01\",\"value\":\"4.400\"},{\"realtime_start\":\"2020-02-17\",\"realtime_end\":\"2020-02-17\",\"date\":\"1994-10-01\",\"value\":\"4.300\"},{\"realtime_start\":\"2020-02-17\",\"realtime_end\":\"2020-02-17\",\"date\":\"1994-11-01\",\"value\":\"4.100\"},{\"realtime_start\":\"2020-02-17\",\"realtime_end\":\"2020-02-17\",\"date\":\"1994-12-01\",\"value\":\"4.000\"},{\"realtime_start\":\"2020-02-17\",\"realtime_end\":\"2020-02-17\",\"date\":\"1995-01-01\",\"value\":\"4.000\"},{\"realtime_start\":\"2020-02-17\",\"realtime_end\":\"2020-02-17\",\"date\":\"1995-02-01\",\"value\":\"4.000\"},{\"realtime_start\":\"2020-02-17\",\"realtime_end\":\"2020-02-17\",\"date\":\"1995-03-01\",\"value\":\"4.000\"},{\"realtime_start\":\"2020-02-17\",\"realtime_end\":\"2020-02-17\",\"date\":\"1995-04-01\",\"value\":\"4.100\"},{\"realtime_start\":\"2020-02-17\",\"realtime_end\":\"2020-02-17\",\"date\":\"1995-05-01\",\"value\":\"4.200\"},{\"realtime_start\":\"2020-02-17\",\"realtime_end\":\"2020-02-17\",\"date\":\"1995-06-01\",\"value\":\"4.300\"},{\"realtime_start\":\"2020-02-17\",\"realtime_end\":\"2020-02-17\",\"date\":\"1995-07-01\",\"value\":\"4.300\"},{\"realtime_start\":\"2020-02-17\",\"realtime_end\":\"2020-02-17\",\"date\":\"1995-08-01\",\"value\":\"4.400\"},{\"realtime_start\":\"2020-02-17\",\"realtime_end\":\"2020-02-17\",\"date\":\"1995-09-01\",\"value\":\"4.400\"},{\"realtime_start\":\"2020-02-17\",\"realtime_end\":\"2020-02-17\",\"date\":\"1995-10-01\",\"value\":\"4.600\"},{\"realtime_start\":\"2020-02-17\",\"realtime_end\":\"2020-02-17\",\"date\":\"1995-11-01\",\"value\":\"4.700\"},{\"realtime_start\":\"2020-02-17\",\"realtime_end\":\"2020-02-17\",\"date\":\"1995-12-01\",\"value\":\"4.900\"},{\"realtime_start\":\"2020-02-17\",\"realtime_end\":\"2020-02-17\",\"date\":\"1996-01-01\",\"value\":\"5.000\"},{\"realtime_start\":\"2020-02-17\",\"realtime_end\":\"2020-02-17\",\"date\":\"1996-02-01\",\"value\":\"5.000\"},{\"realtime_start\":\"2020-02-17\",\"realtime_end\":\"2020-02-17\",\"date\":\"1996-03-01\",\"value\":\"5.000\"},{\"realtime_start\":\"2020-02-17\",\"realtime_end\":\"2020-02-17\",\"date\":\"1996-04-01\",\"value\":\"5.000\"},{\"realtime_start\":\"2020-02-17\",\"realtime_end\":\"2020-02-17\",\"date\":\"1996-05-01\",\"value\":\"5.000\"},{\"realtime_start\":\"2020-02-17\",\"realtime_end\":\"2020-02-17\",\"date\":\"1996-06-01\",\"value\":\"5.000\"},{\"realtime_start\":\"2020-02-17\",\"realtime_end\":\"2020-02-17\",\"date\":\"1996-07-01\",\"value\":\"5.100\"},{\"realtime_start\":\"2020-02-17\",\"realtime_end\":\"2020-02-17\",\"date\":\"1996-08-01\",\"value\":\"5.200\"},{\"realtime_start\":\"2020-02-17\",\"realtime_end\":\"2020-02-17\",\"date\":\"1996-09-01\",\"value\":\"5.300\"},{\"realtime_start\":\"2020-02-17\",\"realtime_end\":\"2020-02-17\",\"date\":\"1996-10-01\",\"value\":\"5.300\"},{\"realtime_start\":\"2020-02-17\",\"realtime_end\":\"2020-02-17\",\"date\":\"1996-11-01\",\"value\":\"5.200\"},{\"realtime_start\":\"2020-02-17\",\"realtime_end\":\"2020-02-17\",\"date\":\"1996-12-01\",\"value\":\"5.000\"},{\"realtime_start\":\"2020-02-17\",\"realtime_end\":\"2020-02-17\",\"date\":\"1997-01-01\",\"value\":\"4.800\"},{\"realtime_start\":\"2020-02-17\",\"realtime_end\":\"2020-02-17\",\"date\":\"1997-02-01\",\"value\":\"4.500\"},{\"realtime_start\":\"2020-02-17\",\"realtime_end\":\"2020-02-17\",\"date\":\"1997-03-01\",\"value\":\"4.300\"},{\"realtime_start\":\"2020-02-17\",\"realtime_end\":\"2020-02-17\",\"date\":\"1997-04-01\",\"value\":\"4.200\"},{\"realtime_start\":\"2020-02-17\",\"realtime_end\":\"2020-02-17\",\"date\":\"1997-05-01\",\"value\":\"4.100\"},{\"realtime_start\":\"2020-02-17\",\"realtime_end\":\"2020-02-17\",\"date\":\"1997-06-01\",\"value\":\"4.000\"},{\"realtime_start\":\"2020-02-17\",\"realtime_end\":\"2020-02-17\",\"date\":\"1997-07-01\",\"value\":\"3.900\"},{\"realtime_start\":\"2020-02-17\",\"realtime_end\":\"2020-02-17\",\"date\":\"1997-08-01\",\"value\":\"3.800\"},{\"realtime_start\":\"2020-02-17\",\"realtime_end\":\"2020-02-17\",\"date\":\"1997-09-01\",\"value\":\"3.700\"},{\"realtime_start\":\"2020-02-17\",\"realtime_end\":\"2020-02-17\",\"date\":\"1997-10-01\",\"value\":\"3.600\"},{\"realtime_start\":\"2020-02-17\",\"realtime_end\":\"2020-02-17\",\"date\":\"1997-11-01\",\"value\":\"3.600\"},{\"realtime_start\":\"2020-02-17\",\"realtime_end\":\"2020-02-17\",\"date\":\"1997-12-01\",\"value\":\"3.600\"},{\"realtime_start\":\"2020-02-17\",\"realtime_end\":\"2020-02-17\",\"date\":\"1998-01-01\",\"value\":\"3.700\"},{\"realtime_start\":\"2020-02-17\",\"realtime_end\":\"2020-02-17\",\"date\":\"1998-02-01\",\"value\":\"3.800\"},{\"realtime_start\":\"2020-02-17\",\"realtime_end\":\"2020-02-17\",\"date\":\"1998-03-01\",\"value\":\"3.800\"},{\"realtime_start\":\"2020-02-17\",\"realtime_end\":\"2020-02-17\",\"date\":\"1998-04-01\",\"value\":\"3.900\"},{\"realtime_start\":\"2020-02-17\",\"realtime_end\":\"2020-02-17\",\"date\":\"1998-05-01\",\"value\":\"3.900\"},{\"realtime_start\":\"2020-02-17\",\"realtime_end\":\"2020-02-17\",\"date\":\"1998-06-01\",\"value\":\"3.900\"},{\"realtime_start\":\"2020-02-17\",\"realtime_end\":\"2020-02-17\",\"date\":\"1998-07-01\",\"value\":\"3.800\"},{\"realtime_start\":\"2020-02-17\",\"realtime_end\":\"2020-02-17\",\"date\":\"1998-08-01\",\"value\":\"3.8\"},{\"realtime_start\":\"2020-02-17\",\"realtime_end\":\"2020-02-17\",\"date\":\"1998-09-01\",\"value\":\"3.700\"},{\"realtime_start\":\"2020-02-17\",\"realtime_end\":\"2020-02-17\",\"date\":\"1998-10-01\",\"value\":\"3.500\"},{\"realtime_start\":\"2020-02-17\",\"realtime_end\":\"2020-02-17\",\"date\":\"1998-11-01\",\"value\":\"3.400\"},{\"realtime_start\":\"2020-02-17\",\"realtime_end\":\"2020-02-17\",\"date\":\"1998-12-01\",\"value\":\"3.300\"},{\"realtime_start\":\"2020-02-17\",\"realtime_end\":\"2020-02-17\",\"date\":\"1999-01-01\",\"value\":\"3.300\"},{\"realtime_start\":\"2020-02-17\",\"realtime_end\":\"2020-02-17\",\"date\":\"1999-02-01\",\"value\":\"3.300\"},{\"realtime_start\":\"2020-02-17\",\"realtime_end\":\"2020-02-17\",\"date\":\"1999-03-01\",\"value\":\"3.300\"},{\"realtime_start\":\"2020-02-17\",\"realtime_end\":\"2020-02-17\",\"date\":\"1999-04-01\",\"value\":\"3.400\"},{\"realtime_start\":\"2020-02-17\",\"realtime_end\":\"2020-02-17\",\"date\":\"1999-05-01\",\"value\":\"3.400\"},{\"realtime_start\":\"2020-02-17\",\"realtime_end\":\"2020-02-17\",\"date\":\"1999-06-01\",\"value\":\"3.400\"},{\"realtime_start\":\"2020-02-17\",\"realtime_end\":\"2020-02-17\",\"date\":\"1999-07-01\",\"value\":\"3.400\"},{\"realtime_start\":\"2020-02-17\",\"realtime_end\":\"2020-02-17\",\"date\":\"1999-08-01\",\"value\":\"3.400\"},{\"realtime_start\":\"2020-02-17\",\"realtime_end\":\"2020-02-17\",\"date\":\"1999-09-01\",\"value\":\"3.500\"},{\"realtime_start\":\"2020-02-17\",\"realtime_end\":\"2020-02-17\",\"date\":\"1999-10-01\",\"value\":\"3.500\"},{\"realtime_start\":\"2020-02-17\",\"realtime_end\":\"2020-02-17\",\"date\":\"1999-11-01\",\"value\":\"3.500\"},{\"realtime_start\":\"2020-02-17\",\"realtime_end\":\"2020-02-17\",\"date\":\"1999-12-01\",\"value\":\"3.500\"},{\"realtime_start\":\"2020-02-17\",\"realtime_end\":\"2020-02-17\",\"date\":\"2000-01-01\",\"value\":\"3.500\"},{\"realtime_start\":\"2020-02-17\",\"realtime_end\":\"2020-02-17\",\"date\":\"2000-02-01\",\"value\":\"3.600\"},{\"realtime_start\":\"2020-02-17\",\"realtime_end\":\"2020-02-17\",\"date\":\"2000-03-01\",\"value\":\"3.600\"},{\"realtime_start\":\"2020-02-17\",\"realtime_end\":\"2020-02-17\",\"date\":\"2000-04-01\",\"value\":\"3.700\"},{\"realtime_start\":\"2020-02-17\",\"realtime_end\":\"2020-02-17\",\"date\":\"2000-05-01\",\"value\":\"3.700\"},{\"realtime_start\":\"2020-02-17\",\"realtime_end\":\"2020-02-17\",\"date\":\"2000-06-01\",\"value\":\"3.800\"},{\"realtime_start\":\"2020-02-17\",\"realtime_end\":\"2020-02-17\",\"date\":\"2000-07-01\",\"value\":\"3.800\"},{\"realtime_start\":\"2020-02-17\",\"realtime_end\":\"2020-02-17\",\"date\":\"2000-08-01\",\"value\":\"3.800\"},{\"realtime_start\":\"2020-02-17\",\"realtime_end\":\"2020-02-17\",\"date\":\"2000-09-01\",\"value\":\"3.900\"},{\"realtime_start\":\"2020-02-17\",\"realtime_end\":\"2020-02-17\",\"date\":\"2000-10-01\",\"value\":\"3.900\"},{\"realtime_start\":\"2020-02-17\",\"realtime_end\":\"2020-02-17\",\"date\":\"2000-11-01\",\"value\":\"3.900\"},{\"realtime_start\":\"2020-02-17\",\"realtime_end\":\"2020-02-17\",\"date\":\"2000-12-01\",\"value\":\"3.900\"},{\"realtime_start\":\"2020-02-17\",\"realtime_end\":\"2020-02-17\",\"date\":\"2001-01-01\",\"value\":\"3.800\"},{\"realtime_start\":\"2020-02-17\",\"realtime_end\":\"2020-02-17\",\"date\":\"2001-02-01\",\"value\":\"3.700\"},{\"realtime_start\":\"2020-02-17\",\"realtime_end\":\"2020-02-17\",\"date\":\"2001-03-01\",\"value\":\"3.600\"},{\"realtime_start\":\"2020-02-17\",\"realtime_end\":\"2020-02-17\",\"date\":\"2001-04-01\",\"value\":\"3.400\"},{\"realtime_start\":\"2020-02-17\",\"realtime_end\":\"2020-02-17\",\"date\":\"2001-05-01\",\"value\":\"3.300\"},{\"realtime_start\":\"2020-02-17\",\"realtime_end\":\"2020-02-17\",\"date\":\"2001-06-01\",\"value\":\"3.300\"},{\"realtime_start\":\"2020-02-17\",\"realtime_end\":\"2020-02-17\",\"date\":\"2001-07-01\",\"value\":\"3.300\"},{\"realtime_start\":\"2020-02-17\",\"realtime_end\":\"2020-02-17\",\"date\":\"2001-08-01\",\"value\":\"3.300\"},{\"realtime_start\":\"2020-02-17\",\"realtime_end\":\"2020-02-17\",\"date\":\"2001-09-01\",\"value\":\"3.400\"},{\"realtime_start\":\"2020-02-17\",\"realtime_end\":\"2020-02-17\",\"date\":\"2001-10-01\",\"value\":\"3.500\"},{\"realtime_start\":\"2020-02-17\",\"realtime_end\":\"2020-02-17\",\"date\":\"2001-11-01\",\"value\":\"3.600\"},{\"realtime_start\":\"2020-02-17\",\"realtime_end\":\"2020-02-17\",\"date\":\"2001-12-01\",\"value\":\"3.700\"},{\"realtime_start\":\"2020-02-17\",\"realtime_end\":\"2020-02-17\",\"date\":\"2002-01-01\",\"value\":\"3.900\"},{\"realtime_start\":\"2020-02-17\",\"realtime_end\":\"2020-02-17\",\"date\":\"2002-02-01\",\"value\":\"4.000\"},{\"realtime_start\":\"2020-02-17\",\"realtime_end\":\"2020-02-17\",\"date\":\"2002-03-01\",\"value\":\"4.100\"},{\"realtime_start\":\"2020-02-17\",\"realtime_end\":\"2020-02-17\",\"date\":\"2002-04-01\",\"value\":\"4.100\"},{\"realtime_start\":\"2020-02-17\",\"realtime_end\":\"2020-02-17\",\"date\":\"2002-05-01\",\"value\":\"4.100\"},{\"realtime_start\":\"2020-02-17\",\"realtime_end\":\"2020-02-17\",\"date\":\"2002-06-01\",\"value\":\"4.100\"},{\"realtime_start\":\"2020-02-17\",\"realtime_end\":\"2020-02-17\",\"date\":\"2002-07-01\",\"value\":\"4.000\"},{\"realtime_start\":\"2020-02-17\",\"realtime_end\":\"2020-02-17\",\"date\":\"2002-08-01\",\"value\":\"4.000\"},{\"realtime_start\":\"2020-02-17\",\"realtime_end\":\"2020-02-17\",\"date\":\"2002-09-01\",\"value\":\"3.900\"},{\"realtime_start\":\"2020-02-17\",\"realtime_end\":\"2020-02-17\",\"date\":\"2002-10-01\",\"value\":\"3.900\"},{\"realtime_start\":\"2020-02-17\",\"realtime_end\":\"2020-02-17\",\"date\":\"2002-11-01\",\"value\":\"4.000\"},{\"realtime_start\":\"2020-02-17\",\"realtime_end\":\"2020-02-17\",\"date\":\"2002-12-01\",\"value\":\"4.100\"},{\"realtime_start\":\"2020-02-17\",\"realtime_end\":\"2020-02-17\",\"date\":\"2003-01-01\",\"value\":\"4.200\"},{\"realtime_start\":\"2020-02-17\",\"realtime_end\":\"2020-02-17\",\"date\":\"2003-02-01\",\"value\":\"4.300\"},{\"realtime_start\":\"2020-02-17\",\"realtime_end\":\"2020-02-17\",\"date\":\"2003-03-01\",\"value\":\"4.300\"},{\"realtime_start\":\"2020-02-17\",\"realtime_end\":\"2020-02-17\",\"date\":\"2003-04-01\",\"value\":\"4.400\"},{\"realtime_start\":\"2020-02-17\",\"realtime_end\":\"2020-02-17\",\"date\":\"2003-05-01\",\"value\":\"4.400\"},{\"realtime_start\":\"2020-02-17\",\"realtime_end\":\"2020-02-17\",\"date\":\"2003-06-01\",\"value\":\"4.400\"},{\"realtime_start\":\"2020-02-17\",\"realtime_end\":\"2020-02-17\",\"date\":\"2003-07-01\",\"value\":\"4.400\"},{\"realtime_start\":\"2020-02-17\",\"realtime_end\":\"2020-02-17\",\"date\":\"2003-08-01\",\"value\":\"4.300\"},{\"realtime_start\":\"2020-02-17\",\"realtime_end\":\"2020-02-17\",\"date\":\"2003-09-01\",\"value\":\"4.200\"},{\"realtime_start\":\"2020-02-17\",\"realtime_end\":\"2020-02-17\",\"date\":\"2003-10-01\",\"value\":\"4.100\"},{\"realtime_start\":\"2020-02-17\",\"realtime_end\":\"2020-02-17\",\"date\":\"2003-11-01\",\"value\":\"4.000\"},{\"realtime_start\":\"2020-02-17\",\"realtime_end\":\"2020-02-17\",\"date\":\"2003-12-01\",\"value\":\"3.900\"},{\"realtime_start\":\"2020-02-17\",\"realtime_end\":\"2020-02-17\",\"date\":\"2004-01-01\",\"value\":\"3.900\"},{\"realtime_start\":\"2020-02-17\",\"realtime_end\":\"2020-02-17\",\"date\":\"2004-02-01\",\"value\":\"3.900\"},{\"realtime_start\":\"2020-02-17\",\"realtime_end\":\"2020-02-17\",\"date\":\"2004-03-01\",\"value\":\"3.900\"},{\"realtime_start\":\"2020-02-17\",\"realtime_end\":\"2020-02-17\",\"date\":\"2004-04-01\",\"value\":\"3.900\"},{\"realtime_start\":\"2020-02-17\",\"realtime_end\":\"2020-02-17\",\"date\":\"2004-05-01\",\"value\":\"3.900\"},{\"realtime_start\":\"2020-02-17\",\"realtime_end\":\"2020-02-17\",\"date\":\"2004-06-01\",\"value\":\"4.000\"},{\"realtime_start\":\"2020-02-17\",\"realtime_end\":\"2020-02-17\",\"date\":\"2004-07-01\",\"value\":\"4.000\"},{\"realtime_start\":\"2020-02-17\",\"realtime_end\":\"2020-02-17\",\"date\":\"2004-08-01\",\"value\":\"4.100\"},{\"realtime_start\":\"2020-02-17\",\"realtime_end\":\"2020-02-17\",\"date\":\"2004-09-01\",\"value\":\"4.100\"},{\"realtime_start\":\"2020-02-17\",\"realtime_end\":\"2020-02-17\",\"date\":\"2004-10-01\",\"value\":\"4.100\"},{\"realtime_start\":\"2020-02-17\",\"realtime_end\":\"2020-02-17\",\"date\":\"2004-11-01\",\"value\":\"4.100\"},{\"realtime_start\":\"2020-02-17\",\"realtime_end\":\"2020-02-17\",\"date\":\"2004-12-01\",\"value\":\"4.000\"},{\"realtime_start\":\"2020-02-17\",\"realtime_end\":\"2020-02-17\",\"date\":\"2005-01-01\",\"value\":\"4.000\"},{\"realtime_start\":\"2020-02-17\",\"realtime_end\":\"2020-02-17\",\"date\":\"2005-02-01\",\"value\":\"4.000\"},{\"realtime_start\":\"2020-02-17\",\"realtime_end\":\"2020-02-17\",\"date\":\"2005-03-01\",\"value\":\"4.000\"},{\"realtime_start\":\"2020-02-17\",\"realtime_end\":\"2020-02-17\",\"date\":\"2005-04-01\",\"value\":\"4.000\"},{\"realtime_start\":\"2020-02-17\",\"realtime_end\":\"2020-02-17\",\"date\":\"2005-05-01\",\"value\":\"4.100\"},{\"realtime_start\":\"2020-02-17\",\"realtime_end\":\"2020-02-17\",\"date\":\"2005-06-01\",\"value\":\"4.200\"},{\"realtime_start\":\"2020-02-17\",\"realtime_end\":\"2020-02-17\",\"date\":\"2005-07-01\",\"value\":\"4.200\"},{\"realtime_start\":\"2020-02-17\",\"realtime_end\":\"2020-02-17\",\"date\":\"2005-08-01\",\"value\":\"4.300\"},{\"realtime_start\":\"2020-02-17\",\"realtime_end\":\"2020-02-17\",\"date\":\"2005-09-01\",\"value\":\"4.300\"},{\"realtime_start\":\"2020-02-17\",\"realtime_end\":\"2020-02-17\",\"date\":\"2005-10-01\",\"value\":\"4.300\"},{\"realtime_start\":\"2020-02-17\",\"realtime_end\":\"2020-02-17\",\"date\":\"2005-11-01\",\"value\":\"4.200\"},{\"realtime_start\":\"2020-02-17\",\"realtime_end\":\"2020-02-17\",\"date\":\"2005-12-01\",\"value\":\"4.100\"},{\"realtime_start\":\"2020-02-17\",\"realtime_end\":\"2020-02-17\",\"date\":\"2006-01-01\",\"value\":\"4.000\"},{\"realtime_start\":\"2020-02-17\",\"realtime_end\":\"2020-02-17\",\"date\":\"2006-02-01\",\"value\":\"3.800\"},{\"realtime_start\":\"2020-02-17\",\"realtime_end\":\"2020-02-17\",\"date\":\"2006-03-01\",\"value\":\"3.700\"},{\"realtime_start\":\"2020-02-17\",\"realtime_end\":\"2020-02-17\",\"date\":\"2006-04-01\",\"value\":\"3.600\"},{\"realtime_start\":\"2020-02-17\",\"realtime_end\":\"2020-02-17\",\"date\":\"2006-05-01\",\"value\":\"3.600\"},{\"realtime_start\":\"2020-02-17\",\"realtime_end\":\"2020-02-17\",\"date\":\"2006-06-01\",\"value\":\"3.600\"},{\"realtime_start\":\"2020-02-17\",\"realtime_end\":\"2020-02-17\",\"date\":\"2006-07-01\",\"value\":\"3.600\"},{\"realtime_start\":\"2020-02-17\",\"realtime_end\":\"2020-02-17\",\"date\":\"2006-08-01\",\"value\":\"3.500\"},{\"realtime_start\":\"2020-02-17\",\"realtime_end\":\"2020-02-17\",\"date\":\"2006-09-01\",\"value\":\"3.500\"},{\"realtime_start\":\"2020-02-17\",\"realtime_end\":\"2020-02-17\",\"date\":\"2006-10-01\",\"value\":\"3.400\"},{\"realtime_start\":\"2020-02-17\",\"realtime_end\":\"2020-02-17\",\"date\":\"2006-11-01\",\"value\":\"3.400\"},{\"realtime_start\":\"2020-02-17\",\"realtime_end\":\"2020-02-17\",\"date\":\"2006-12-01\",\"value\":\"3.400\"},{\"realtime_start\":\"2020-02-17\",\"realtime_end\":\"2020-02-17\",\"date\":\"2007-01-01\",\"value\":\"3.400\"},{\"realtime_start\":\"2020-02-17\",\"realtime_end\":\"2020-02-17\",\"date\":\"2007-02-01\",\"value\":\"3.400\"},{\"realtime_start\":\"2020-02-17\",\"realtime_end\":\"2020-02-17\",\"date\":\"2007-03-01\",\"value\":\"3.400\"},{\"realtime_start\":\"2020-02-17\",\"realtime_end\":\"2020-02-17\",\"date\":\"2007-04-01\",\"value\":\"3.400\"},{\"realtime_start\":\"2020-02-17\",\"realtime_end\":\"2020-02-17\",\"date\":\"2007-05-01\",\"value\":\"3.400\"},{\"realtime_start\":\"2020-02-17\",\"realtime_end\":\"2020-02-17\",\"date\":\"2007-06-01\",\"value\":\"3.400\"},{\"realtime_start\":\"2020-02-17\",\"realtime_end\":\"2020-02-17\",\"date\":\"2007-07-01\",\"value\":\"3.3\"},{\"realtime_start\":\"2020-02-17\",\"realtime_end\":\"2020-02-17\",\"date\":\"2007-08-01\",\"value\":\"3.400\"},{\"realtime_start\":\"2020-02-17\",\"realtime_end\":\"2020-02-17\",\"date\":\"2007-09-01\",\"value\":\"3.400\"},{\"realtime_start\":\"2020-02-17\",\"realtime_end\":\"2020-02-17\",\"date\":\"2007-10-01\",\"value\":\"3.500\"},{\"realtime_start\":\"2020-02-17\",\"realtime_end\":\"2020-02-17\",\"date\":\"2007-11-01\",\"value\":\"3.600\"},{\"realtime_start\":\"2020-02-17\",\"realtime_end\":\"2020-02-17\",\"date\":\"2007-12-01\",\"value\":\"3.700\"},{\"realtime_start\":\"2020-02-17\",\"realtime_end\":\"2020-02-17\",\"date\":\"2008-01-01\",\"value\":\"3.800\"},{\"realtime_start\":\"2020-02-17\",\"realtime_end\":\"2020-02-17\",\"date\":\"2008-02-01\",\"value\":\"3.900\"},{\"realtime_start\":\"2020-02-17\",\"realtime_end\":\"2020-02-17\",\"date\":\"2008-03-01\",\"value\":\"4.000\"},{\"realtime_start\":\"2020-02-17\",\"realtime_end\":\"2020-02-17\",\"date\":\"2008-04-01\",\"value\":\"4.1\"},{\"realtime_start\":\"2020-02-17\",\"realtime_end\":\"2020-02-17\",\"date\":\"2008-05-01\",\"value\":\"4.3\"},{\"realtime_start\":\"2020-02-17\",\"realtime_end\":\"2020-02-17\",\"date\":\"2008-06-01\",\"value\":\"4.600\"},{\"realtime_start\":\"2020-02-17\",\"realtime_end\":\"2020-02-17\",\"date\":\"2008-07-01\",\"value\":\"4.900\"},{\"realtime_start\":\"2020-02-17\",\"realtime_end\":\"2020-02-17\",\"date\":\"2008-08-01\",\"value\":\"5.2\"},{\"realtime_start\":\"2020-02-17\",\"realtime_end\":\"2020-02-17\",\"date\":\"2008-09-01\",\"value\":\"5.600\"},{\"realtime_start\":\"2020-02-17\",\"realtime_end\":\"2020-02-17\",\"date\":\"2008-10-01\",\"value\":\"6.000\"},{\"realtime_start\":\"2020-02-17\",\"realtime_end\":\"2020-02-17\",\"date\":\"2008-11-01\",\"value\":\"6.400\"},{\"realtime_start\":\"2020-02-17\",\"realtime_end\":\"2020-02-17\",\"date\":\"2008-12-01\",\"value\":\"6.800\"},{\"realtime_start\":\"2020-02-17\",\"realtime_end\":\"2020-02-17\",\"date\":\"2009-01-01\",\"value\":\"7.200\"},{\"realtime_start\":\"2020-02-17\",\"realtime_end\":\"2020-02-17\",\"date\":\"2009-02-01\",\"value\":\"7.600\"},{\"realtime_start\":\"2020-02-17\",\"realtime_end\":\"2020-02-17\",\"date\":\"2009-03-01\",\"value\":\"7.900\"},{\"realtime_start\":\"2020-02-17\",\"realtime_end\":\"2020-02-17\",\"date\":\"2009-04-01\",\"value\":\"8.1\"},{\"realtime_start\":\"2020-02-17\",\"realtime_end\":\"2020-02-17\",\"date\":\"2009-05-01\",\"value\":\"8.300\"},{\"realtime_start\":\"2020-02-17\",\"realtime_end\":\"2020-02-17\",\"date\":\"2009-06-01\",\"value\":\"8.400\"},{\"realtime_start\":\"2020-02-17\",\"realtime_end\":\"2020-02-17\",\"date\":\"2009-07-01\",\"value\":\"8.500\"},{\"realtime_start\":\"2020-02-17\",\"realtime_end\":\"2020-02-17\",\"date\":\"2009-08-01\",\"value\":\"8.500\"},{\"realtime_start\":\"2020-02-17\",\"realtime_end\":\"2020-02-17\",\"date\":\"2009-09-01\",\"value\":\"8.600\"},{\"realtime_start\":\"2020-02-17\",\"realtime_end\":\"2020-02-17\",\"date\":\"2009-10-01\",\"value\":\"8.600\"},{\"realtime_start\":\"2020-02-17\",\"realtime_end\":\"2020-02-17\",\"date\":\"2009-11-01\",\"value\":\"8.700\"},{\"realtime_start\":\"2020-02-17\",\"realtime_end\":\"2020-02-17\",\"date\":\"2009-12-01\",\"value\":\"8.700\"},{\"realtime_start\":\"2020-02-17\",\"realtime_end\":\"2020-02-17\",\"date\":\"2010-01-01\",\"value\":\"8.8\"},{\"realtime_start\":\"2020-02-17\",\"realtime_end\":\"2020-02-17\",\"date\":\"2010-02-01\",\"value\":\"8.700\"},{\"realtime_start\":\"2020-02-17\",\"realtime_end\":\"2020-02-17\",\"date\":\"2010-03-01\",\"value\":\"8.7\"},{\"realtime_start\":\"2020-02-17\",\"realtime_end\":\"2020-02-17\",\"date\":\"2010-04-01\",\"value\":\"8.600\"},{\"realtime_start\":\"2020-02-17\",\"realtime_end\":\"2020-02-17\",\"date\":\"2010-05-01\",\"value\":\"8.500\"},{\"realtime_start\":\"2020-02-17\",\"realtime_end\":\"2020-02-17\",\"date\":\"2010-06-01\",\"value\":\"8.400\"},{\"realtime_start\":\"2020-02-17\",\"realtime_end\":\"2020-02-17\",\"date\":\"2010-07-01\",\"value\":\"8.400\"},{\"realtime_start\":\"2020-02-17\",\"realtime_end\":\"2020-02-17\",\"date\":\"2010-08-01\",\"value\":\"8.300\"},{\"realtime_start\":\"2020-02-17\",\"realtime_end\":\"2020-02-17\",\"date\":\"2010-09-01\",\"value\":\"8.3\"},{\"realtime_start\":\"2020-02-17\",\"realtime_end\":\"2020-02-17\",\"date\":\"2010-10-01\",\"value\":\"8.200\"},{\"realtime_start\":\"2020-02-17\",\"realtime_end\":\"2020-02-17\",\"date\":\"2010-11-01\",\"value\":\"8.100\"},{\"realtime_start\":\"2020-02-17\",\"realtime_end\":\"2020-02-17\",\"date\":\"2010-12-01\",\"value\":\"8.000\"},{\"realtime_start\":\"2020-02-17\",\"realtime_end\":\"2020-02-17\",\"date\":\"2011-01-01\",\"value\":\"7.900\"},{\"realtime_start\":\"2020-02-17\",\"realtime_end\":\"2020-02-17\",\"date\":\"2011-02-01\",\"value\":\"7.800\"},{\"realtime_start\":\"2020-02-17\",\"realtime_end\":\"2020-02-17\",\"date\":\"2011-03-01\",\"value\":\"7.700\"},{\"realtime_start\":\"2020-02-17\",\"realtime_end\":\"2020-02-17\",\"date\":\"2011-04-01\",\"value\":\"7.600\"},{\"realtime_start\":\"2020-02-17\",\"realtime_end\":\"2020-02-17\",\"date\":\"2011-05-01\",\"value\":\"7.500\"},{\"realtime_start\":\"2020-02-17\",\"realtime_end\":\"2020-02-17\",\"date\":\"2011-06-01\",\"value\":\"7.500\"},{\"realtime_start\":\"2020-02-17\",\"realtime_end\":\"2020-02-17\",\"date\":\"2011-07-01\",\"value\":\"7.500\"},{\"realtime_start\":\"2020-02-17\",\"realtime_end\":\"2020-02-17\",\"date\":\"2011-08-01\",\"value\":\"7.400\"},{\"realtime_start\":\"2020-02-17\",\"realtime_end\":\"2020-02-17\",\"date\":\"2011-09-01\",\"value\":\"7.400\"},{\"realtime_start\":\"2020-02-17\",\"realtime_end\":\"2020-02-17\",\"date\":\"2011-10-01\",\"value\":\"7.300\"},{\"realtime_start\":\"2020-02-17\",\"realtime_end\":\"2020-02-17\",\"date\":\"2011-11-01\",\"value\":\"7.200\"},{\"realtime_start\":\"2020-02-17\",\"realtime_end\":\"2020-02-17\",\"date\":\"2011-12-01\",\"value\":\"7.2\"},{\"realtime_start\":\"2020-02-17\",\"realtime_end\":\"2020-02-17\",\"date\":\"2012-01-01\",\"value\":\"7.100\"},{\"realtime_start\":\"2020-02-17\",\"realtime_end\":\"2020-02-17\",\"date\":\"2012-02-01\",\"value\":\"7.100\"},{\"realtime_start\":\"2020-02-17\",\"realtime_end\":\"2020-02-17\",\"date\":\"2012-03-01\",\"value\":\"7.100\"},{\"realtime_start\":\"2020-02-17\",\"realtime_end\":\"2020-02-17\",\"date\":\"2012-04-01\",\"value\":\"7.2\"},{\"realtime_start\":\"2020-02-17\",\"realtime_end\":\"2020-02-17\",\"date\":\"2012-05-01\",\"value\":\"7.200\"},{\"realtime_start\":\"2020-02-17\",\"realtime_end\":\"2020-02-17\",\"date\":\"2012-06-01\",\"value\":\"7.200\"},{\"realtime_start\":\"2020-02-17\",\"realtime_end\":\"2020-02-17\",\"date\":\"2012-07-01\",\"value\":\"7.200\"},{\"realtime_start\":\"2020-02-17\",\"realtime_end\":\"2020-02-17\",\"date\":\"2012-08-01\",\"value\":\"7.3\"},{\"realtime_start\":\"2020-02-17\",\"realtime_end\":\"2020-02-17\",\"date\":\"2012-09-01\",\"value\":\"7.3\"},{\"realtime_start\":\"2020-02-17\",\"realtime_end\":\"2020-02-17\",\"date\":\"2012-10-01\",\"value\":\"7.300\"},{\"realtime_start\":\"2020-02-17\",\"realtime_end\":\"2020-02-17\",\"date\":\"2012-11-01\",\"value\":\"7.300\"},{\"realtime_start\":\"2020-02-17\",\"realtime_end\":\"2020-02-17\",\"date\":\"2012-12-01\",\"value\":\"7.2\"},{\"realtime_start\":\"2020-02-17\",\"realtime_end\":\"2020-02-17\",\"date\":\"2013-01-01\",\"value\":\"7.200\"},{\"realtime_start\":\"2020-02-17\",\"realtime_end\":\"2020-02-17\",\"date\":\"2013-02-01\",\"value\":\"7.1\"},{\"realtime_start\":\"2020-02-17\",\"realtime_end\":\"2020-02-17\",\"date\":\"2013-03-01\",\"value\":\"7.100\"},{\"realtime_start\":\"2020-02-17\",\"realtime_end\":\"2020-02-17\",\"date\":\"2013-04-01\",\"value\":\"7.000\"},{\"realtime_start\":\"2020-02-17\",\"realtime_end\":\"2020-02-17\",\"date\":\"2013-05-01\",\"value\":\"6.900\"},{\"realtime_start\":\"2020-02-17\",\"realtime_end\":\"2020-02-17\",\"date\":\"2013-06-01\",\"value\":\"6.800\"},{\"realtime_start\":\"2020-02-17\",\"realtime_end\":\"2020-02-17\",\"date\":\"2013-07-01\",\"value\":\"6.600\"},{\"realtime_start\":\"2020-02-17\",\"realtime_end\":\"2020-02-17\",\"date\":\"2013-08-01\",\"value\":\"6.500\"},{\"realtime_start\":\"2020-02-17\",\"realtime_end\":\"2020-02-17\",\"date\":\"2013-09-01\",\"value\":\"6.400\"},{\"realtime_start\":\"2020-02-17\",\"realtime_end\":\"2020-02-17\",\"date\":\"2013-10-01\",\"value\":\"6.300\"},{\"realtime_start\":\"2020-02-17\",\"realtime_end\":\"2020-02-17\",\"date\":\"2013-11-01\",\"value\":\"6.200\"},{\"realtime_start\":\"2020-02-17\",\"realtime_end\":\"2020-02-17\",\"date\":\"2013-12-01\",\"value\":\"6.2\"},{\"realtime_start\":\"2020-02-17\",\"realtime_end\":\"2020-02-17\",\"date\":\"2014-01-01\",\"value\":\"6.100\"},{\"realtime_start\":\"2020-02-17\",\"realtime_end\":\"2020-02-17\",\"date\":\"2014-02-01\",\"value\":\"6.1\"},{\"realtime_start\":\"2020-02-17\",\"realtime_end\":\"2020-02-17\",\"date\":\"2014-03-01\",\"value\":\"6.000\"},{\"realtime_start\":\"2020-02-17\",\"realtime_end\":\"2020-02-17\",\"date\":\"2014-04-01\",\"value\":\"6.0\"},{\"realtime_start\":\"2020-02-17\",\"realtime_end\":\"2020-02-17\",\"date\":\"2014-05-01\",\"value\":\"5.900\"},{\"realtime_start\":\"2020-02-17\",\"realtime_end\":\"2020-02-17\",\"date\":\"2014-06-01\",\"value\":\"5.8\"},{\"realtime_start\":\"2020-02-17\",\"realtime_end\":\"2020-02-17\",\"date\":\"2014-07-01\",\"value\":\"5.7\"},{\"realtime_start\":\"2020-02-17\",\"realtime_end\":\"2020-02-17\",\"date\":\"2014-08-01\",\"value\":\"5.6\"},{\"realtime_start\":\"2020-02-17\",\"realtime_end\":\"2020-02-17\",\"date\":\"2014-09-01\",\"value\":\"5.500\"},{\"realtime_start\":\"2020-02-17\",\"realtime_end\":\"2020-02-17\",\"date\":\"2014-10-01\",\"value\":\"5.400\"},{\"realtime_start\":\"2020-02-17\",\"realtime_end\":\"2020-02-17\",\"date\":\"2014-11-01\",\"value\":\"5.3\"},{\"realtime_start\":\"2020-02-17\",\"realtime_end\":\"2020-02-17\",\"date\":\"2014-12-01\",\"value\":\"5.2\"},{\"realtime_start\":\"2020-02-17\",\"realtime_end\":\"2020-02-17\",\"date\":\"2015-01-01\",\"value\":\"5.1\"},{\"realtime_start\":\"2020-02-17\",\"realtime_end\":\"2020-02-17\",\"date\":\"2015-02-01\",\"value\":\"5.0\"},{\"realtime_start\":\"2020-02-17\",\"realtime_end\":\"2020-02-17\",\"date\":\"2015-03-01\",\"value\":\"5.0\"},{\"realtime_start\":\"2020-02-17\",\"realtime_end\":\"2020-02-17\",\"date\":\"2015-04-01\",\"value\":\"4.9\"},{\"realtime_start\":\"2020-02-17\",\"realtime_end\":\"2020-02-17\",\"date\":\"2015-05-01\",\"value\":\"4.9\"},{\"realtime_start\":\"2020-02-17\",\"realtime_end\":\"2020-02-17\",\"date\":\"2015-06-01\",\"value\":\"4.9\"},{\"realtime_start\":\"2020-02-17\",\"realtime_end\":\"2020-02-17\",\"date\":\"2015-07-01\",\"value\":\"4.8\"},{\"realtime_start\":\"2020-02-17\",\"realtime_end\":\"2020-02-17\",\"date\":\"2015-08-01\",\"value\":\"4.8\"},{\"realtime_start\":\"2020-02-17\",\"realtime_end\":\"2020-02-17\",\"date\":\"2015-09-01\",\"value\":\"4.8\"},{\"realtime_start\":\"2020-02-17\",\"realtime_end\":\"2020-02-17\",\"date\":\"2015-10-01\",\"value\":\"4.7\"},{\"realtime_start\":\"2020-02-17\",\"realtime_end\":\"2020-02-17\",\"date\":\"2015-11-01\",\"value\":\"4.7\"},{\"realtime_start\":\"2020-02-17\",\"realtime_end\":\"2020-02-17\",\"date\":\"2015-12-01\",\"value\":\"4.6\"},{\"realtime_start\":\"2020-02-17\",\"realtime_end\":\"2020-02-17\",\"date\":\"2016-01-01\",\"value\":\"4.6\"},{\"realtime_start\":\"2020-02-17\",\"realtime_end\":\"2020-02-17\",\"date\":\"2016-02-01\",\"value\":\"4.5\"},{\"realtime_start\":\"2020-02-17\",\"realtime_end\":\"2020-02-17\",\"date\":\"2016-03-01\",\"value\":\"4.5\"},{\"realtime_start\":\"2020-02-17\",\"realtime_end\":\"2020-02-17\",\"date\":\"2016-04-01\",\"value\":\"4.5\"},{\"realtime_start\":\"2020-02-17\",\"realtime_end\":\"2020-02-17\",\"date\":\"2016-05-01\",\"value\":\"4.5\"},{\"realtime_start\":\"2020-02-17\",\"realtime_end\":\"2020-02-17\",\"date\":\"2016-06-01\",\"value\":\"4.5\"},{\"realtime_start\":\"2020-02-17\",\"realtime_end\":\"2020-02-17\",\"date\":\"2016-07-01\",\"value\":\"4.5\"},{\"realtime_start\":\"2020-02-17\",\"realtime_end\":\"2020-02-17\",\"date\":\"2016-08-01\",\"value\":\"4.5\"},{\"realtime_start\":\"2020-02-17\",\"realtime_end\":\"2020-02-17\",\"date\":\"2016-09-01\",\"value\":\"4.5\"},{\"realtime_start\":\"2020-02-17\",\"realtime_end\":\"2020-02-17\",\"date\":\"2016-10-01\",\"value\":\"4.5\"},{\"realtime_start\":\"2020-02-17\",\"realtime_end\":\"2020-02-17\",\"date\":\"2016-11-01\",\"value\":\"4.5\"},{\"realtime_start\":\"2020-02-17\",\"realtime_end\":\"2020-02-17\",\"date\":\"2016-12-01\",\"value\":\"4.6\"},{\"realtime_start\":\"2020-02-17\",\"realtime_end\":\"2020-02-17\",\"date\":\"2017-01-01\",\"value\":\"4.6\"},{\"realtime_start\":\"2020-02-17\",\"realtime_end\":\"2020-02-17\",\"date\":\"2017-02-01\",\"value\":\"4.6\"},{\"realtime_start\":\"2020-02-17\",\"realtime_end\":\"2020-02-17\",\"date\":\"2017-03-01\",\"value\":\"4.6\"},{\"realtime_start\":\"2020-02-17\",\"realtime_end\":\"2020-02-17\",\"date\":\"2017-04-01\",\"value\":\"4.6\"},{\"realtime_start\":\"2020-02-17\",\"realtime_end\":\"2020-02-17\",\"date\":\"2017-05-01\",\"value\":\"4.6\"},{\"realtime_start\":\"2020-02-17\",\"realtime_end\":\"2020-02-17\",\"date\":\"2017-06-01\",\"value\":\"4.5\"},{\"realtime_start\":\"2020-02-17\",\"realtime_end\":\"2020-02-17\",\"date\":\"2017-07-01\",\"value\":\"4.5\"},{\"realtime_start\":\"2020-02-17\",\"realtime_end\":\"2020-02-17\",\"date\":\"2017-08-01\",\"value\":\"4.5\"},{\"realtime_start\":\"2020-02-17\",\"realtime_end\":\"2020-02-17\",\"date\":\"2017-09-01\",\"value\":\"4.4\"},{\"realtime_start\":\"2020-02-17\",\"realtime_end\":\"2020-02-17\",\"date\":\"2017-10-01\",\"value\":\"4.3\"},{\"realtime_start\":\"2020-02-17\",\"realtime_end\":\"2020-02-17\",\"date\":\"2017-11-01\",\"value\":\"4.3\"},{\"realtime_start\":\"2020-02-17\",\"realtime_end\":\"2020-02-17\",\"date\":\"2017-12-01\",\"value\":\"4.2\"},{\"realtime_start\":\"2020-02-17\",\"realtime_end\":\"2020-02-17\",\"date\":\"2018-01-01\",\"value\":\"4.1\"},{\"realtime_start\":\"2020-02-17\",\"realtime_end\":\"2020-02-17\",\"date\":\"2018-02-01\",\"value\":\"4.0\"},{\"realtime_start\":\"2020-02-17\",\"realtime_end\":\"2020-02-17\",\"date\":\"2018-03-01\",\"value\":\"4.0\"},{\"realtime_start\":\"2020-02-17\",\"realtime_end\":\"2020-02-17\",\"date\":\"2018-04-01\",\"value\":\"3.9\"},{\"realtime_start\":\"2020-02-17\",\"realtime_end\":\"2020-02-17\",\"date\":\"2018-05-01\",\"value\":\"3.8\"},{\"realtime_start\":\"2020-02-17\",\"realtime_end\":\"2020-02-17\",\"date\":\"2018-06-01\",\"value\":\"3.8\"},{\"realtime_start\":\"2020-02-17\",\"realtime_end\":\"2020-02-17\",\"date\":\"2018-07-01\",\"value\":\"3.7\"},{\"realtime_start\":\"2020-02-17\",\"realtime_end\":\"2020-02-17\",\"date\":\"2018-08-01\",\"value\":\"3.7\"},{\"realtime_start\":\"2020-02-17\",\"realtime_end\":\"2020-02-17\",\"date\":\"2018-09-01\",\"value\":\"3.6\"},{\"realtime_start\":\"2020-02-17\",\"realtime_end\":\"2020-02-17\",\"date\":\"2018-10-01\",\"value\":\"3.6\"},{\"realtime_start\":\"2020-02-17\",\"realtime_end\":\"2020-02-17\",\"date\":\"2018-11-01\",\"value\":\"3.5\"},{\"realtime_start\":\"2020-02-17\",\"realtime_end\":\"2020-02-17\",\"date\":\"2018-12-01\",\"value\":\"3.6\"},{\"realtime_start\":\"2020-02-17\",\"realtime_end\":\"2020-02-17\",\"date\":\"2019-01-01\",\"value\":\"3.5\"},{\"realtime_start\":\"2020-02-17\",\"realtime_end\":\"2020-02-17\",\"date\":\"2019-02-01\",\"value\":\"3.4\"},{\"realtime_start\":\"2020-02-17\",\"realtime_end\":\"2020-02-17\",\"date\":\"2019-03-01\",\"value\":\"3.3\"},{\"realtime_start\":\"2020-02-17\",\"realtime_end\":\"2020-02-17\",\"date\":\"2019-04-01\",\"value\":\"3.2\"},{\"realtime_start\":\"2020-02-17\",\"realtime_end\":\"2020-02-17\",\"date\":\"2019-05-01\",\"value\":\"3.2\"},{\"realtime_start\":\"2020-02-17\",\"realtime_end\":\"2020-02-17\",\"date\":\"2019-06-01\",\"value\":\"3.2\"},{\"realtime_start\":\"2020-02-17\",\"realtime_end\":\"2020-02-17\",\"date\":\"2019-07-01\",\"value\":\"3.3\"},{\"realtime_start\":\"2020-02-17\",\"realtime_end\":\"2020-02-17\",\"date\":\"2019-08-01\",\"value\":\"3.4\"},{\"realtime_start\":\"2020-02-17\",\"realtime_end\":\"2020-02-17\",\"date\":\"2019-09-01\",\"value\":\"3.5\"},{\"realtime_start\":\"2020-02-17\",\"realtime_end\":\"2020-02-17\",\"date\":\"2019-10-01\",\"value\":\"3.7\"},{\"realtime_start\":\"2020-02-17\",\"realtime_end\":\"2020-02-17\",\"date\":\"2019-11-01\",\"value\":\"3.8\"},{\"realtime_start\":\"2020-02-17\",\"realtime_end\":\"2020-02-17\",\"date\":\"2019-12-01\",\"value\":\"3.9\"}]}'"
      ]
     },
     "execution_count": 9,
     "metadata": {},
     "output_type": "execute_result"
    }
   ],
   "source": [
    "#read the response and see what it looks like\n",
    "\n",
    "response.content"
   ]
  },
  {
   "cell_type": "code",
   "execution_count": 10,
   "metadata": {},
   "outputs": [],
   "source": [
    "#save the content of the response\n",
    "\n",
    "content  = response.content"
   ]
  },
  {
   "cell_type": "markdown",
   "metadata": {},
   "source": [
    "We specified the file_type as json because it nice and easy to read this way. Using the json library, figure out how to load the response as a dictionary. "
   ]
  },
  {
   "cell_type": "code",
   "execution_count": 11,
   "metadata": {},
   "outputs": [],
   "source": [
    "#load the content of the response as a dict\n",
    "\n",
    "response_dict = json.loads(content)"
   ]
  },
  {
   "cell_type": "code",
   "execution_count": 12,
   "metadata": {},
   "outputs": [],
   "source": [
    "#load the observations from the dict into a DataFrame\n",
    "\n",
    "unemp_df = pd.DataFrame(response_dict['observations'])"
   ]
  },
  {
   "cell_type": "code",
   "execution_count": 13,
   "metadata": {},
   "outputs": [
    {
     "data": {
      "text/html": [
       "<div>\n",
       "<style scoped>\n",
       "    .dataframe tbody tr th:only-of-type {\n",
       "        vertical-align: middle;\n",
       "    }\n",
       "\n",
       "    .dataframe tbody tr th {\n",
       "        vertical-align: top;\n",
       "    }\n",
       "\n",
       "    .dataframe thead th {\n",
       "        text-align: right;\n",
       "    }\n",
       "</style>\n",
       "<table border=\"1\" class=\"dataframe\">\n",
       "  <thead>\n",
       "    <tr style=\"text-align: right;\">\n",
       "      <th></th>\n",
       "      <th>realtime_start</th>\n",
       "      <th>realtime_end</th>\n",
       "      <th>date</th>\n",
       "      <th>value</th>\n",
       "    </tr>\n",
       "  </thead>\n",
       "  <tbody>\n",
       "    <tr>\n",
       "      <th>0</th>\n",
       "      <td>2020-02-17</td>\n",
       "      <td>2020-02-17</td>\n",
       "      <td>1976-01-01</td>\n",
       "      <td>7.7</td>\n",
       "    </tr>\n",
       "    <tr>\n",
       "      <th>1</th>\n",
       "      <td>2020-02-17</td>\n",
       "      <td>2020-02-17</td>\n",
       "      <td>1976-02-01</td>\n",
       "      <td>7.7</td>\n",
       "    </tr>\n",
       "    <tr>\n",
       "      <th>2</th>\n",
       "      <td>2020-02-17</td>\n",
       "      <td>2020-02-17</td>\n",
       "      <td>1976-03-01</td>\n",
       "      <td>7.700</td>\n",
       "    </tr>\n",
       "    <tr>\n",
       "      <th>3</th>\n",
       "      <td>2020-02-17</td>\n",
       "      <td>2020-02-17</td>\n",
       "      <td>1976-04-01</td>\n",
       "      <td>8.0</td>\n",
       "    </tr>\n",
       "    <tr>\n",
       "      <th>4</th>\n",
       "      <td>2020-02-17</td>\n",
       "      <td>2020-02-17</td>\n",
       "      <td>1976-05-01</td>\n",
       "      <td>8.4</td>\n",
       "    </tr>\n",
       "    <tr>\n",
       "      <th>...</th>\n",
       "      <td>...</td>\n",
       "      <td>...</td>\n",
       "      <td>...</td>\n",
       "      <td>...</td>\n",
       "    </tr>\n",
       "    <tr>\n",
       "      <th>523</th>\n",
       "      <td>2020-02-17</td>\n",
       "      <td>2020-02-17</td>\n",
       "      <td>2019-08-01</td>\n",
       "      <td>3.4</td>\n",
       "    </tr>\n",
       "    <tr>\n",
       "      <th>524</th>\n",
       "      <td>2020-02-17</td>\n",
       "      <td>2020-02-17</td>\n",
       "      <td>2019-09-01</td>\n",
       "      <td>3.5</td>\n",
       "    </tr>\n",
       "    <tr>\n",
       "      <th>525</th>\n",
       "      <td>2020-02-17</td>\n",
       "      <td>2020-02-17</td>\n",
       "      <td>2019-10-01</td>\n",
       "      <td>3.7</td>\n",
       "    </tr>\n",
       "    <tr>\n",
       "      <th>526</th>\n",
       "      <td>2020-02-17</td>\n",
       "      <td>2020-02-17</td>\n",
       "      <td>2019-11-01</td>\n",
       "      <td>3.8</td>\n",
       "    </tr>\n",
       "    <tr>\n",
       "      <th>527</th>\n",
       "      <td>2020-02-17</td>\n",
       "      <td>2020-02-17</td>\n",
       "      <td>2019-12-01</td>\n",
       "      <td>3.9</td>\n",
       "    </tr>\n",
       "  </tbody>\n",
       "</table>\n",
       "<p>528 rows × 4 columns</p>\n",
       "</div>"
      ],
      "text/plain": [
       "    realtime_start realtime_end        date  value\n",
       "0       2020-02-17   2020-02-17  1976-01-01    7.7\n",
       "1       2020-02-17   2020-02-17  1976-02-01    7.7\n",
       "2       2020-02-17   2020-02-17  1976-03-01  7.700\n",
       "3       2020-02-17   2020-02-17  1976-04-01    8.0\n",
       "4       2020-02-17   2020-02-17  1976-05-01    8.4\n",
       "..             ...          ...         ...    ...\n",
       "523     2020-02-17   2020-02-17  2019-08-01    3.4\n",
       "524     2020-02-17   2020-02-17  2019-09-01    3.5\n",
       "525     2020-02-17   2020-02-17  2019-10-01    3.7\n",
       "526     2020-02-17   2020-02-17  2019-11-01    3.8\n",
       "527     2020-02-17   2020-02-17  2019-12-01    3.9\n",
       "\n",
       "[528 rows x 4 columns]"
      ]
     },
     "execution_count": 13,
     "metadata": {},
     "output_type": "execute_result"
    }
   ],
   "source": [
    "#show the df\n",
    "\n",
    "unemp_df"
   ]
  },
  {
   "cell_type": "markdown",
   "metadata": {},
   "source": [
    "Now let's wrap all steps above into a reusable function, and use it to pull in another data series.\n",
    "\n",
    "Your function should have one input and should:\n",
    "- Call the API\n",
    "- Check if the response succeded\n",
    "    - Print if it fails\n",
    "- Read the content as JSON\n",
    "- Load the JSON into a dict\n",
    "- Return a DataFrame from the dict"
   ]
  },
  {
   "cell_type": "code",
   "execution_count": 14,
   "metadata": {},
   "outputs": [],
   "source": [
    "#create your function here\n",
    "\n",
    "def get_data(url):\n",
    "    response = requests.get(url)\n",
    "    if response.status_code == 200:\n",
    "        content  = response.content\n",
    "        response_dict = json.loads(content)\n",
    "        data = pd.DataFrame(response_dict['observations'])\n",
    "    else:\n",
    "        print('Sorry - this call failed. Please check your URL.')\n",
    "        \n",
    "    return data"
   ]
  },
  {
   "cell_type": "markdown",
   "metadata": {},
   "source": [
    "Now let's pull another data set. Go find the series_id for Labor Force Participation rate in DE.\n",
    "\n",
    "Then:\n",
    "- Create a fresh URL to hit\n",
    "- Pass that URL to your new function\n",
    "- Inspect the results"
   ]
  },
  {
   "cell_type": "code",
   "execution_count": 15,
   "metadata": {},
   "outputs": [],
   "source": [
    "#save the series id as labor_id\n",
    "\n",
    "labor_id = 'LBSSA10'"
   ]
  },
  {
   "cell_type": "code",
   "execution_count": 16,
   "metadata": {},
   "outputs": [],
   "source": [
    "#create a new URL to hit that incorporates the new series_id\n",
    "\n",
    "participation_url = base + 'series_id=' + labor_id\\\n",
    "+ '&' + 'api_key=' + mykey + '&' + 'file_type=json'"
   ]
  },
  {
   "cell_type": "code",
   "execution_count": 17,
   "metadata": {},
   "outputs": [],
   "source": [
    "#create a df by passing the URL to the function you created \n",
    "\n",
    "particip_data = get_data(participation_url)"
   ]
  },
  {
   "cell_type": "code",
   "execution_count": 18,
   "metadata": {},
   "outputs": [
    {
     "data": {
      "text/html": [
       "<div>\n",
       "<style scoped>\n",
       "    .dataframe tbody tr th:only-of-type {\n",
       "        vertical-align: middle;\n",
       "    }\n",
       "\n",
       "    .dataframe tbody tr th {\n",
       "        vertical-align: top;\n",
       "    }\n",
       "\n",
       "    .dataframe thead th {\n",
       "        text-align: right;\n",
       "    }\n",
       "</style>\n",
       "<table border=\"1\" class=\"dataframe\">\n",
       "  <thead>\n",
       "    <tr style=\"text-align: right;\">\n",
       "      <th></th>\n",
       "      <th>realtime_start</th>\n",
       "      <th>realtime_end</th>\n",
       "      <th>date</th>\n",
       "      <th>value</th>\n",
       "    </tr>\n",
       "  </thead>\n",
       "  <tbody>\n",
       "    <tr>\n",
       "      <th>0</th>\n",
       "      <td>2020-02-17</td>\n",
       "      <td>2020-02-17</td>\n",
       "      <td>1976-01-01</td>\n",
       "      <td>63.0</td>\n",
       "    </tr>\n",
       "    <tr>\n",
       "      <th>1</th>\n",
       "      <td>2020-02-17</td>\n",
       "      <td>2020-02-17</td>\n",
       "      <td>1976-02-01</td>\n",
       "      <td>62.8</td>\n",
       "    </tr>\n",
       "    <tr>\n",
       "      <th>2</th>\n",
       "      <td>2020-02-17</td>\n",
       "      <td>2020-02-17</td>\n",
       "      <td>1976-03-01</td>\n",
       "      <td>62.8</td>\n",
       "    </tr>\n",
       "    <tr>\n",
       "      <th>3</th>\n",
       "      <td>2020-02-17</td>\n",
       "      <td>2020-02-17</td>\n",
       "      <td>1976-04-01</td>\n",
       "      <td>62.8</td>\n",
       "    </tr>\n",
       "    <tr>\n",
       "      <th>4</th>\n",
       "      <td>2020-02-17</td>\n",
       "      <td>2020-02-17</td>\n",
       "      <td>1976-05-01</td>\n",
       "      <td>62.8</td>\n",
       "    </tr>\n",
       "    <tr>\n",
       "      <th>...</th>\n",
       "      <td>...</td>\n",
       "      <td>...</td>\n",
       "      <td>...</td>\n",
       "      <td>...</td>\n",
       "    </tr>\n",
       "    <tr>\n",
       "      <th>523</th>\n",
       "      <td>2020-02-17</td>\n",
       "      <td>2020-02-17</td>\n",
       "      <td>2019-08-01</td>\n",
       "      <td>62.5</td>\n",
       "    </tr>\n",
       "    <tr>\n",
       "      <th>524</th>\n",
       "      <td>2020-02-17</td>\n",
       "      <td>2020-02-17</td>\n",
       "      <td>2019-09-01</td>\n",
       "      <td>62.4</td>\n",
       "    </tr>\n",
       "    <tr>\n",
       "      <th>525</th>\n",
       "      <td>2020-02-17</td>\n",
       "      <td>2020-02-17</td>\n",
       "      <td>2019-10-01</td>\n",
       "      <td>62.4</td>\n",
       "    </tr>\n",
       "    <tr>\n",
       "      <th>526</th>\n",
       "      <td>2020-02-17</td>\n",
       "      <td>2020-02-17</td>\n",
       "      <td>2019-11-01</td>\n",
       "      <td>62.5</td>\n",
       "    </tr>\n",
       "    <tr>\n",
       "      <th>527</th>\n",
       "      <td>2020-02-17</td>\n",
       "      <td>2020-02-17</td>\n",
       "      <td>2019-12-01</td>\n",
       "      <td>62.6</td>\n",
       "    </tr>\n",
       "  </tbody>\n",
       "</table>\n",
       "<p>528 rows × 4 columns</p>\n",
       "</div>"
      ],
      "text/plain": [
       "    realtime_start realtime_end        date value\n",
       "0       2020-02-17   2020-02-17  1976-01-01  63.0\n",
       "1       2020-02-17   2020-02-17  1976-02-01  62.8\n",
       "2       2020-02-17   2020-02-17  1976-03-01  62.8\n",
       "3       2020-02-17   2020-02-17  1976-04-01  62.8\n",
       "4       2020-02-17   2020-02-17  1976-05-01  62.8\n",
       "..             ...          ...         ...   ...\n",
       "523     2020-02-17   2020-02-17  2019-08-01  62.5\n",
       "524     2020-02-17   2020-02-17  2019-09-01  62.4\n",
       "525     2020-02-17   2020-02-17  2019-10-01  62.4\n",
       "526     2020-02-17   2020-02-17  2019-11-01  62.5\n",
       "527     2020-02-17   2020-02-17  2019-12-01  62.6\n",
       "\n",
       "[528 rows x 4 columns]"
      ]
     },
     "execution_count": 18,
     "metadata": {},
     "output_type": "execute_result"
    }
   ],
   "source": [
    "#show the df\n",
    "\n",
    "particip_data"
   ]
  },
  {
   "cell_type": "markdown",
   "metadata": {},
   "source": [
    "## Now that we've done this the long way . . .\n",
    "\n",
    "We did the above to illustrate how getting data from APIs often goes. You'll usually need:\n",
    "- To get an API key\n",
    "- Read the API documentation a bit to understand how to call it\n",
    "- Test it a few times and read the responses manually to get comfortable with it\n",
    "- If you're going to pull lots of data, make sure to take a peek at the site's robots.txt file (these files are always found in the base directory: https://fred.stlouisfed.org/robots.txt).\n",
    "\n",
    "\n",
    "Now that we've done this manually, it's worth mentioning that many popular APIs have pre-built wrappers that make accessing the API super easy. These wrappers allow you to abstract with much of the boilerplate code we wrote above (constructing the URL, checking the response, reading the content, loading it, etc).\n",
    "\n",
    "For FRED, a very common one is **fredapi**, which can be installed via pip. \n",
    "\n",
    "Go install it before continuing."
   ]
  },
  {
   "cell_type": "code",
   "execution_count": 19,
   "metadata": {},
   "outputs": [],
   "source": [
    "#from fredapi import Fred\n",
    "\n",
    "from fredapi import Fred"
   ]
  },
  {
   "cell_type": "code",
   "execution_count": 20,
   "metadata": {},
   "outputs": [],
   "source": [
    "#set your api_key\n",
    "\n",
    "fred = Fred(api_key=mykey)"
   ]
  },
  {
   "cell_type": "code",
   "execution_count": 21,
   "metadata": {},
   "outputs": [],
   "source": [
    "#pull DE unemployment the easy way\n",
    "\n",
    "easy_response = fred.get_series('DEUR')"
   ]
  },
  {
   "cell_type": "code",
   "execution_count": 22,
   "metadata": {},
   "outputs": [
    {
     "data": {
      "text/plain": [
       "1976-01-01    7.7\n",
       "1976-02-01    7.7\n",
       "1976-03-01    7.7\n",
       "1976-04-01    8.0\n",
       "1976-05-01    8.4\n",
       "             ... \n",
       "2019-08-01    3.4\n",
       "2019-09-01    3.5\n",
       "2019-10-01    3.7\n",
       "2019-11-01    3.8\n",
       "2019-12-01    3.9\n",
       "Length: 528, dtype: float64"
      ]
     },
     "execution_count": 22,
     "metadata": {},
     "output_type": "execute_result"
    }
   ],
   "source": [
    "#show the response\n",
    "\n",
    "easy_response"
   ]
  },
  {
   "cell_type": "markdown",
   "metadata": {},
   "source": [
    "See? Magic 😂"
   ]
  }
 ],
 "metadata": {
  "kernelspec": {
   "display_name": "Python 3",
   "language": "python",
   "name": "python3"
  },
  "language_info": {
   "codemirror_mode": {
    "name": "ipython",
    "version": 3
   },
   "file_extension": ".py",
   "mimetype": "text/x-python",
   "name": "python",
   "nbconvert_exporter": "python",
   "pygments_lexer": "ipython3",
   "version": "3.7.6"
  }
 },
 "nbformat": 4,
 "nbformat_minor": 4
}
